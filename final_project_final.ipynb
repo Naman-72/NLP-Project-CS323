{
 "cells": [
  {
   "cell_type": "markdown",
   "metadata": {},
   "source": [
    "# ***Toxic Comment Classification* 🤬**\n",
    "### By : ***Better Than Machine*** 💻\n",
    "\n",
    "In this project , we aim to build a classification project capable of detecting various toxic comments in social media that are abusive and insulting.The main idea of the model is to identify the toxicity in online conversations where toxicity is defined as anything rude, disrespectful or otherwise likely to make someone leave a discussion. Identify toxic comments can lead communities to facilitate and improve online conversations and exchange of opinions. Cyberbullying is one of the major societal problem."
   ]
  },
  {
   "cell_type": "markdown",
   "metadata": {},
   "source": [
    "**Steps of the Project**\n",
    "---\n",
    "---\n",
    "It is an end-to-end project covering all the necessary steps from text preprocessing to final classification and tuning.\n",
    "\n",
    "---\n",
    "\n",
    "\n",
    "1.   **Preprocessing Text**\n",
    "  * Importing Data and Cleaning\n",
    "  * Tokenization and stopwords removal\n",
    "  * Stemming \n",
    "2.   **Embeddings in NLP**\n",
    "  * Splitting the data in Training and Testing sets\n",
    "  * Different Embeddings : TF-IDF , Word2Vec \n",
    "  * Oversampling SMOTE for Dealing with Imbalanced Classes\n",
    "  * Normalization\n",
    "3.   **Model Selection and Hyperparameter Tuning**\n",
    "  * LinearSvc\n",
    "  * Logistic Regression\n",
    "  * Naive Bayes\n",
    "  * RandomForest \n",
    "  * AdaBoost\n",
    "4.   **Evaluation and Threshold Tuning**\n",
    "  * ROC , AUC , Precision-Recall Curve\n",
    "  * Threshold Tuning\n",
    "\n",
    "5.   **Post Analysis**\n",
    "  * Analysis of Various Steps and thier impact on result\n",
    "  * Summary\n",
    "\n",
    "## **DATASET**\n",
    "The dataset for this project is hosted on Kaggle and was part of a competition. According to the description on Kaggle, The Conversation AI team, a research initiative founded by Jigsaw and Google (both a part of Alphabet) are working on tools to help improve online conversation. \n",
    "I will use only the train set provided by Kaggle and i will proceed with the usual splitting into train and test sets. The dataset consists of 143346 non-toxic comments and 16225 toxic comments. Binary Classification : A comment is considered toxic if belongs to at least one of the toxicity categories provided in the original dataset. The original toxicity labels have been assigned in a manual way by humans, according to the description of the dataset available on Kaggle.\n",
    "The dataset contains the raw comments, extracted as they were originally posted by users. This comments have been extracted from Wikipedia talks pages. For more details about the dataset, please refer to the competition page on Kaggle, at\n",
    " \n",
    "*https://www.kaggle.com/competitions/jigsaw-toxic-comment-classification-challenge*"
   ]
  },
  {
   "cell_type": "code",
   "execution_count": 11,
   "metadata": {},
   "outputs": [],
   "source": [
    "# UTILITY\n",
    "import pandas as pd\n",
    "import numpy as np\n",
    "from joblib import dump\n",
    "from collections import Counter\n",
    "from sklearn.preprocessing import MinMaxScaler, Normalizer\n",
    "import warnings\n",
    "\n",
    "# IMBALANCED LEARN\n",
    "## OverSampling\n",
    "from imblearn.over_sampling import SMOTE\n",
    "from imblearn.over_sampling import RandomOverSampler\n",
    "## UnderSampling\n",
    "from imblearn.under_sampling import RandomUnderSampler\n",
    "from imblearn.under_sampling import EditedNearestNeighbours\n",
    "## Mixture\n",
    "from imblearn.combine import SMOTEENN\n",
    "\n",
    "\n",
    "# NLP\n",
    "import re\n",
    "from nltk.corpus import wordnet\n",
    "from nltk.tokenize import word_tokenize\n",
    "from nltk import SnowballStemmer\n",
    "import spacy\n",
    "import gensim\n",
    "from gensim.models import Word2Vec\n",
    "from gensim.test.utils import get_tmpfile\n",
    "from sklearn.feature_extraction.text import TfidfVectorizer\n",
    "\n",
    "# MODELS\n",
    "from sklearn.model_selection import train_test_split, RandomizedSearchCV\n",
    "from sklearn.svm import LinearSVC\n",
    "from sklearn.linear_model import LogisticRegression\n",
    "from sklearn.naive_bayes import MultinomialNB\n",
    "\n",
    "# EVALUATION\n",
    "from sklearn.metrics import confusion_matrix, accuracy_score, precision_score, recall_score,\\\n",
    "     f1_score, roc_auc_score, roc_curve, precision_recall_curve\n",
    "\n",
    "# VISUALIZATION\n",
    "from wordcloud import WordCloud\n",
    "import matplotlib.pyplot as plt\n",
    "\n",
    "# INIT\n",
    "warnings.filterwarnings('ignore')\n",
    "NUM_OF_THREADS = 10 # set > 1 to use multithreading support"
   ]
  },
  {
   "cell_type": "code",
   "execution_count": 12,
   "metadata": {},
   "outputs": [],
   "source": [
    "# read data from csv file\n",
    "data = pd.read_csv(\"data/train.csv\")\n",
    "# drop na and reset index\n",
    "data.dropna(inplace=True)\n",
    "data.reset_index(inplace=True, drop=True)\n",
    "# column name to work with\n",
    "name = \"comment_text\""
   ]
  },
  {
   "cell_type": "code",
   "execution_count": 13,
   "metadata": {},
   "outputs": [],
   "source": [
    "# function to clean the text performin some simple regex pattern matching\n",
    "def apply_regex(corpus):\n",
    "    corpus = corpus.apply(lambda x: re.sub(\"\\S*\\d\\S*\",\" \", x))          # removes numbers and words concatenated with numbers (IE h4ck3r)\n",
    "    corpus = corpus.apply(lambda x: re.sub(\"\\S*@\\S*\\s?\",\" \", x))        # removes emails and mentions (words with @)\n",
    "    corpus = corpus.apply(lambda x: re.sub(r'http\\S+', ' ', x))         # removes URLs\n",
    "    corpus = corpus.apply(lambda x: re.sub(r'[^a-zA-Z0-9 ]', ' ',x))    # keeps numbers and letters\n",
    "    corpus = corpus.apply(lambda x: x.replace(u'\\ufffd', '8'))          # replaces the ASCII '�' symbol with '8'\n",
    "    corpus = corpus.apply(lambda x: re.sub(' +', ' ', x))               # removes multiple spaces\n",
    "    return corpus\n",
    "# apply the function and clean the data\n",
    "data[name] = apply_regex(data[name])"
   ]
  },
  {
   "cell_type": "code",
   "execution_count": 14,
   "metadata": {},
   "outputs": [
    {
     "data": {
      "text/plain": [
       "Counter({0: 143346, 1: 16225})"
      ]
     },
     "execution_count": 14,
     "metadata": {},
     "output_type": "execute_result"
    }
   ],
   "source": [
    "# ASSIGN A BINARY LABEL -- 1 is toxic, 0 is not\n",
    "data[\"label\"] = np.where(data[\"toxic\"]==1, 1, \n",
    "                np.where(data[\"severe_toxic\"]==1, 1, \n",
    "                np.where(data[\"obscene\"]==1, 1, \n",
    "                np.where(data[\"threat\"]==1, 1,\n",
    "                np.where(data[\"insult\"]==1, 1,\n",
    "                np.where(data[\"identity_hate\"]==1, 1, 0))))))\n",
    "Counter(data[\"label\"])"
   ]
  },
  {
   "cell_type": "markdown",
   "metadata": {},
   "source": [
    "## 3. Preprocessing Text - NLP pipeline"
   ]
  },
  {
   "cell_type": "code",
   "execution_count": 15,
   "metadata": {
    "id": "GS5D4S_oyRNX"
   },
   "outputs": [],
   "source": [
    "# TOKENIZE TEXT - we use the Spacy library stopwords\n",
    "spacy_model = spacy.load(\"en_core_web_sm\")\n",
    "stop_words = spacy_model.Defaults.stop_words"
   ]
  },
  {
   "cell_type": "code",
   "execution_count": 16,
   "metadata": {
    "id": "fPkU19VGyRNX"
   },
   "outputs": [
    {
     "name": "stderr",
     "output_type": "stream",
     "text": [
      "[nltk_data] Downloading package punkt to\n",
      "[nltk_data]     /Users/lokeshnahar/nltk_data...\n",
      "[nltk_data]   Package punkt is already up-to-date!\n"
     ]
    }
   ],
   "source": [
    "# TOKENIZE TEXT and STOP WORDS REMOVAL - execution (removes also the words shorter than 2 and longer than 15 chars)\n",
    "import nltk\n",
    "nltk.download('punkt')\n",
    "def tokenize(doc):\n",
    "    tokens_1 = word_tokenize(str(doc))\n",
    "    return [word.lower() for word in tokens_1 if len(word) > 1 and len(word) < 15 and word not in stop_words and not word.isdigit()]\n",
    "    \n",
    "data[\"tokenized\"] = data[name].apply(tokenize)"
   ]
  },
  {
   "cell_type": "code",
   "execution_count": 17,
   "metadata": {},
   "outputs": [],
   "source": [
    "# STEMMING\n",
    "stemmer = SnowballStemmer(language=\"english\")\n",
    "\n",
    "def applyStemming(listOfTokens):\n",
    "    return [stemmer.stem(token) for token in listOfTokens]\n",
    "\n",
    "data['stemmed'] = data['tokenized'].apply(applyStemming)"
   ]
  },
  {
   "cell_type": "markdown",
   "metadata": {},
   "source": [
    "**The final result** of the NLP preprocessing is shown in the next cell. **We can see the result of all the steps**, from raw text to stemmed text. For the next steps, **we will use the stemmed text.**"
   ]
  },
  {
   "cell_type": "code",
   "execution_count": 18,
   "metadata": {},
   "outputs": [
    {
     "data": {
      "text/html": [
       "<div>\n",
       "<style scoped>\n",
       "    .dataframe tbody tr th:only-of-type {\n",
       "        vertical-align: middle;\n",
       "    }\n",
       "\n",
       "    .dataframe tbody tr th {\n",
       "        vertical-align: top;\n",
       "    }\n",
       "\n",
       "    .dataframe thead th {\n",
       "        text-align: right;\n",
       "    }\n",
       "</style>\n",
       "<table border=\"1\" class=\"dataframe\">\n",
       "  <thead>\n",
       "    <tr style=\"text-align: right;\">\n",
       "      <th></th>\n",
       "      <th>id</th>\n",
       "      <th>comment_text</th>\n",
       "      <th>toxic</th>\n",
       "      <th>severe_toxic</th>\n",
       "      <th>obscene</th>\n",
       "      <th>threat</th>\n",
       "      <th>insult</th>\n",
       "      <th>identity_hate</th>\n",
       "      <th>label</th>\n",
       "      <th>tokenized</th>\n",
       "      <th>stemmed</th>\n",
       "    </tr>\n",
       "  </thead>\n",
       "  <tbody>\n",
       "    <tr>\n",
       "      <th>27894</th>\n",
       "      <td>49d4fa7fd8d816a3</td>\n",
       "      <td>June UTC I am greatful that you saw my humoro...</td>\n",
       "      <td>0</td>\n",
       "      <td>0</td>\n",
       "      <td>0</td>\n",
       "      <td>0</td>\n",
       "      <td>0</td>\n",
       "      <td>0</td>\n",
       "      <td>0</td>\n",
       "      <td>[june, utc, greatful, saw, humorous, intent, b...</td>\n",
       "      <td>[june, utc, great, saw, humor, intent, but, se...</td>\n",
       "    </tr>\n",
       "    <tr>\n",
       "      <th>108347</th>\n",
       "      <td>4335d6e2f4688ec8</td>\n",
       "      <td>AFAQ is published on the internet AFAQ is not...</td>\n",
       "      <td>0</td>\n",
       "      <td>0</td>\n",
       "      <td>0</td>\n",
       "      <td>0</td>\n",
       "      <td>0</td>\n",
       "      <td>0</td>\n",
       "      <td>0</td>\n",
       "      <td>[afaq, published, internet, afaq, secondary, s...</td>\n",
       "      <td>[afaq, publish, internet, afaq, secondari, sourc]</td>\n",
       "    </tr>\n",
       "    <tr>\n",
       "      <th>126235</th>\n",
       "      <td>a32be1b37dd9d89e</td>\n",
       "      <td>Wierd The even indexed Euler numbers except ar...</td>\n",
       "      <td>0</td>\n",
       "      <td>0</td>\n",
       "      <td>0</td>\n",
       "      <td>0</td>\n",
       "      <td>0</td>\n",
       "      <td>0</td>\n",
       "      <td>0</td>\n",
       "      <td>[wierd, the, indexed, euler, numbers, zero, so...</td>\n",
       "      <td>[wierd, the, index, euler, number, zero, some,...</td>\n",
       "    </tr>\n",
       "    <tr>\n",
       "      <th>107735</th>\n",
       "      <td>3fe7e64d60ca7f2a</td>\n",
       "      <td>The last thing I was trying to do was make you...</td>\n",
       "      <td>0</td>\n",
       "      <td>0</td>\n",
       "      <td>0</td>\n",
       "      <td>0</td>\n",
       "      <td>0</td>\n",
       "      <td>0</td>\n",
       "      <td>0</td>\n",
       "      <td>[the, thing, trying, feel, stupid, unintellige...</td>\n",
       "      <td>[the, thing, tri, feel, stupid, unintellig, ch...</td>\n",
       "    </tr>\n",
       "    <tr>\n",
       "      <th>135484</th>\n",
       "      <td>d49f6854329089c1</td>\n",
       "      <td>REDIRECT Talk Syrtis Major Planum</td>\n",
       "      <td>0</td>\n",
       "      <td>0</td>\n",
       "      <td>0</td>\n",
       "      <td>0</td>\n",
       "      <td>0</td>\n",
       "      <td>0</td>\n",
       "      <td>0</td>\n",
       "      <td>[redirect, talk, syrtis, major, planum]</td>\n",
       "      <td>[redirect, talk, syrti, major, planum]</td>\n",
       "    </tr>\n",
       "  </tbody>\n",
       "</table>\n",
       "</div>"
      ],
      "text/plain": [
       "                      id                                       comment_text  \\\n",
       "27894   49d4fa7fd8d816a3   June UTC I am greatful that you saw my humoro...   \n",
       "108347  4335d6e2f4688ec8   AFAQ is published on the internet AFAQ is not...   \n",
       "126235  a32be1b37dd9d89e  Wierd The even indexed Euler numbers except ar...   \n",
       "107735  3fe7e64d60ca7f2a  The last thing I was trying to do was make you...   \n",
       "135484  d49f6854329089c1                  REDIRECT Talk Syrtis Major Planum   \n",
       "\n",
       "        toxic  severe_toxic  obscene  threat  insult  identity_hate  label  \\\n",
       "27894       0             0        0       0       0              0      0   \n",
       "108347      0             0        0       0       0              0      0   \n",
       "126235      0             0        0       0       0              0      0   \n",
       "107735      0             0        0       0       0              0      0   \n",
       "135484      0             0        0       0       0              0      0   \n",
       "\n",
       "                                                tokenized  \\\n",
       "27894   [june, utc, greatful, saw, humorous, intent, b...   \n",
       "108347  [afaq, published, internet, afaq, secondary, s...   \n",
       "126235  [wierd, the, indexed, euler, numbers, zero, so...   \n",
       "107735  [the, thing, trying, feel, stupid, unintellige...   \n",
       "135484            [redirect, talk, syrtis, major, planum]   \n",
       "\n",
       "                                                  stemmed  \n",
       "27894   [june, utc, great, saw, humor, intent, but, se...  \n",
       "108347  [afaq, publish, internet, afaq, secondari, sourc]  \n",
       "126235  [wierd, the, index, euler, number, zero, some,...  \n",
       "107735  [the, thing, tri, feel, stupid, unintellig, ch...  \n",
       "135484             [redirect, talk, syrti, major, planum]  "
      ]
     },
     "execution_count": 18,
     "metadata": {},
     "output_type": "execute_result"
    }
   ],
   "source": [
    "data.sample(5)"
   ]
  },
  {
   "cell_type": "markdown",
   "metadata": {},
   "source": [
    "## 5. Splitting the Data in Training and Testing sets"
   ]
  },
  {
   "cell_type": "code",
   "execution_count": 19,
   "metadata": {
    "id": "2iH6ZNxCyRNZ"
   },
   "outputs": [],
   "source": [
    "X_train, X_test, y_train, y_test = train_test_split(data[\"stemmed\"], data[\"label\"], random_state=42)"
   ]
  },
  {
   "cell_type": "markdown",
   "metadata": {
    "id": "B4YM557AyRNZ"
   },
   "source": [
    "## 6. Different Embeddings: TF-IDF, Word2Vec"
   ]
  },
  {
   "cell_type": "markdown",
   "metadata": {
    "id": "mot9p3vAyRNa"
   },
   "source": [
    "### TF-IDF Vectorizer"
   ]
  },
  {
   "cell_type": "markdown",
   "metadata": {
    "id": "BFxDCtI4yRNa"
   },
   "source": [
    "**Term Frequency–Inverse Document Frequency** (TF-IDF) is a popular technique used to **compute words importance across all the documents** in the corpus. In particular, the assumption is that a word that appears more times in a document but doesn't appear in all the others, is important for that document. TF-IDF **assigns a weight to each word based on the occurence frequency**. At the end, words that are frequent in general will have a lower weight (carry less information for a specific document).\n",
    "\n",
    "We represents a set of words (for example a comment) with an **array containing the scores of the words**.\n",
    "\n",
    "This methods belongs to the \"Bag of Words\" category and share **some disadvantages** in respect to more advance methods. For instance, **word order is lost and the context is not considered**."
   ]
  },
  {
   "cell_type": "markdown",
   "metadata": {
    "id": "-C04246EyRNa"
   },
   "source": [
    "The stemmed text is passed to the sklearn *TfidfVectorizer* specifying a number of features equal to 500. This is an arbitrary choice, and in order to have a fair comparison with other method, this parameter will be setted to 500 for all the three methods."
   ]
  },
  {
   "cell_type": "code",
   "execution_count": 20,
   "metadata": {
    "id": "w2cutUKoyRNa"
   },
   "outputs": [],
   "source": [
    "# encoding text into vectors\n",
    "# since already tokenized\n",
    "def identity_tokenizer(text):\n",
    "  return text\n",
    "tfid = TfidfVectorizer(lowercase=False, tokenizer=identity_tokenizer, max_features=80)\n",
    "\n",
    "train_vectors_tfidf = tfid.fit_transform(X_train).toarray()\n",
    "test_vectors_tfidf = tfid.transform(X_test).toarray()"
   ]
  },
  {
   "cell_type": "markdown",
   "metadata": {
    "id": "qcc51kOiyRNa"
   },
   "source": [
    "### Word2Vec: Model Creation and Persistence Store"
   ]
  },
  {
   "cell_type": "markdown",
   "metadata": {
    "id": "NJrwzQHPyRNb"
   },
   "source": [
    "We start by setting the parameter for the train of the model. Once ther model is trained, we save it on the disk."
   ]
  },
  {
   "cell_type": "code",
   "execution_count": 25,
   "metadata": {
    "id": "qilwQ4WQyRNb"
   },
   "outputs": [
    {
     "name": "stdout",
     "output_type": "stream",
     "text": [
      "Model Made Successfully\n"
     ]
    }
   ],
   "source": [
    "w2v = Word2Vec(\n",
    "                sg=0,                   # 1 for skip-gram, 0 for CBOW\n",
    "                vector_size=500,        # size of the resulting vector\n",
    "                workers=NUM_OF_THREADS, # multithreading\n",
    "                seed=42                 # seed for reproducibility\n",
    "            )            \n",
    "\n",
    "# building the vocabulary and training the model\n",
    "w2v.build_vocab(X_train, progress_per=50000)\n",
    "w2v.train(X_train, total_examples=w2v.corpus_count, epochs=30, report_delay=1)\n",
    "# saving the model to the disk in order to avoid training again\n",
    "w2v.save(\"w2vec.model\")\n",
    "print(\"Model Made Successfully\")"
   ]
  },
  {
   "cell_type": "markdown",
   "metadata": {
    "id": "OzRvzZbDyRNb"
   },
   "source": [
    "#### Word2Vec Embedding using the Trained Model"
   ]
  },
  {
   "cell_type": "code",
   "execution_count": 26,
   "metadata": {
    "id": "N8PLyFeYyRNb"
   },
   "outputs": [],
   "source": [
    "wordVec = Word2Vec.load(\"./w2vec.model\").wv"
   ]
  },
  {
   "cell_type": "markdown",
   "metadata": {
    "id": "TBdGYKobyRNb"
   },
   "source": [
    "The following function takes the tokens of each document (comment) and look up in the model for the vectorial representation of each token. All the representations of the tokens of each document are averaged together in order to get a vectorial representation of the whole comment. **Basically a comment is represented as the average of the words representations of the words that make that comment.**"
   ]
  },
  {
   "cell_type": "code",
   "execution_count": 27,
   "metadata": {
    "id": "PEj-3dPOyRNb"
   },
   "outputs": [],
   "source": [
    "# Creating a feature vector by averaging all embeddings for all sentences\n",
    "def embedding_feats(corpus, w2v_model):\n",
    "    DIMENSION = 500\n",
    "    zero_vector = np.zeros(DIMENSION)\n",
    "    feats = []\n",
    "    for tokens in corpus:\n",
    "        feat_for_this =  np.zeros(DIMENSION)\n",
    "        count_for_this = 0 + 1e-5 # to avoid divide-by-zero \n",
    "        for token in tokens:\n",
    "            if token in w2v_model:\n",
    "                feat_for_this += w2v_model[token]\n",
    "                count_for_this +=1\n",
    "        if(count_for_this!=0):\n",
    "            feats.append(feat_for_this/count_for_this) \n",
    "        else:\n",
    "            feats.append(zero_vector)\n",
    "    return feats\n",
    "\n",
    "\n",
    "train_vectors_w2v = embedding_feats(X_train, wordVec)\n",
    "test_vectors_w2v = embedding_feats(X_test, wordVec)"
   ]
  },
  {
   "cell_type": "markdown",
   "metadata": {
    "id": "E10cCV5_yRNd"
   },
   "source": [
    "## 7. Dealing with Imbalanced Classes"
   ]
  },
  {
   "cell_type": "code",
   "execution_count": 28,
   "metadata": {
    "id": "AOYDtrxtyRNd"
   },
   "outputs": [],
   "source": [
    "from numpy import mean\n",
    "from sklearn.datasets import make_classification\n",
    "from sklearn.model_selection import cross_val_score\n",
    "from sklearn.model_selection import RepeatedStratifiedKFold\n",
    "from sklearn.tree import DecisionTreeClassifier\n",
    "from imblearn.pipeline import Pipeline\n",
    "from imblearn.over_sampling import SMOTE\n",
    "from imblearn.under_sampling import RandomUnderSampler"
   ]
  },
  {
   "cell_type": "markdown",
   "metadata": {},
   "source": [
    "##### TFIDF "
   ]
  },
  {
   "cell_type": "code",
   "execution_count": 29,
   "metadata": {},
   "outputs": [],
   "source": [
    "#SMOTE OVERSAMPLING\n",
    "sm_tfidf = SMOTE(random_state=42, n_jobs=NUM_OF_THREADS)\n",
    "train_vectors_tfidf1, y_train_tfidf1 = sm_tfidf.fit_resample(train_vectors_tfidf, y_train)\n",
    "test_vectors_tfidf1, y_test_tfidf1 = sm_tfidf.fit_resample(test_vectors_tfidf, y_test)"
   ]
  },
  {
   "cell_type": "code",
   "execution_count": 30,
   "metadata": {},
   "outputs": [],
   "source": [
    "#RANDOM OVERSAMPLING \n",
    "ROS= RandomOverSampler(random_state=42)\n",
    "train_vectors_tfidf2, y_train_tfidf2 = ROS.fit_resample(train_vectors_tfidf, y_train)\n",
    "test_vectors_tfidf2, y_test_tfidf2 = ROS.fit_resample(test_vectors_tfidf, y_test)"
   ]
  },
  {
   "cell_type": "code",
   "execution_count": 31,
   "metadata": {},
   "outputs": [],
   "source": [
    "#RANDOM UNDERSAMPLING\n",
    "RS = RandomUnderSampler(random_state=42)\n",
    "train_vectors_tfidf3, y_train_tfidf3 = RS.fit_resample(train_vectors_tfidf, y_train)\n",
    "test_vectors_tfidf3, y_test_tfidf3 = RS.fit_resample(test_vectors_tfidf, y_test)"
   ]
  },
  {
   "cell_type": "code",
   "execution_count": 32,
   "metadata": {},
   "outputs": [],
   "source": [
    "#MODE APPROACH : EDITED NEAREST\n",
    "ENN = EditedNearestNeighbours()\n",
    "train_vectors_tfidf4, y_train_tfidf4 = ENN.fit_resample(train_vectors_tfidf, y_train)\n",
    "test_vectors_tfidf4, y_test_tfidf4 = ENN.fit_resample(test_vectors_tfidf, y_test)"
   ]
  },
  {
   "cell_type": "code",
   "execution_count": 33,
   "metadata": {},
   "outputs": [],
   "source": [
    "#MIXTURE\n",
    "SMT = SMOTEENN()\n",
    "train_vectors_tfidf5, y_train_tfidf5 = SMT.fit_resample(train_vectors_tfidf, y_train)\n",
    "test_vectors_tfidf5, y_test_tfidf5 = SMT.fit_resample(test_vectors_tfidf, y_test)"
   ]
  },
  {
   "cell_type": "markdown",
   "metadata": {},
   "source": [
    "#### W2V"
   ]
  },
  {
   "cell_type": "code",
   "execution_count": 34,
   "metadata": {},
   "outputs": [],
   "source": [
    "#SMOTE OVERSAMPLING\n",
    "sm_w2v = SMOTE(random_state=42, n_jobs=NUM_OF_THREADS)\n",
    "train_vectors_w2v1, y_train_w2v1 = sm_w2v.fit_resample(train_vectors_w2v, y_train)\n",
    "test_vectors_w2v1, y_test_w2v1 = sm_w2v.fit_resample(test_vectors_w2v, y_test)"
   ]
  },
  {
   "cell_type": "code",
   "execution_count": 35,
   "metadata": {},
   "outputs": [],
   "source": [
    "#RANDOM OVERSAMPLING \n",
    "ROS= RandomOverSampler(random_state=42)\n",
    "train_vectors_w2v2, y_train_w2v2 = ROS.fit_resample(train_vectors_w2v, y_train)\n",
    "test_vectors_w2v2, y_test_w2v2 = ROS.fit_resample(test_vectors_w2v, y_test)"
   ]
  },
  {
   "cell_type": "code",
   "execution_count": 36,
   "metadata": {},
   "outputs": [],
   "source": [
    "#RANDOM UNDERSAMPLING\n",
    "RS = RandomUnderSampler(random_state=42)\n",
    "train_vectors_w2v3, y_train_w2v3 = RS.fit_resample(train_vectors_w2v, y_train)\n",
    "test_vectors_w2v3, y_test_w2v3 = RS.fit_resample(test_vectors_w2v, y_test)"
   ]
  },
  {
   "cell_type": "code",
   "execution_count": 37,
   "metadata": {},
   "outputs": [],
   "source": [
    "#MODE APPROACH : EDITED NEAREST\n",
    "ENN = EditedNearestNeighbours()\n",
    "train_vectors_w2v4, y_train_w2v4 = ENN.fit_resample(train_vectors_w2v, y_train)\n",
    "test_vectors_w2v4, y_test_w2v4 = ENN.fit_resample(test_vectors_w2v, y_test)"
   ]
  },
  {
   "cell_type": "code",
   "execution_count": 38,
   "metadata": {},
   "outputs": [],
   "source": [
    "#MIXTURE\n",
    "SMT = SMOTEENN()\n",
    "train_vectors_w2v5, y_train_w2v5 = SMT.fit_resample(train_vectors_w2v, y_train)\n",
    "test_vectors_w2v5, y_test_w2v5 = SMT.fit_resample(test_vectors_w2v, y_test)"
   ]
  },
  {
   "cell_type": "markdown",
   "metadata": {
    "id": "6Lm-p4ExyRNe"
   },
   "source": [
    "## 8. Features Normalization"
   ]
  },
  {
   "cell_type": "markdown",
   "metadata": {
    "id": "1NFtJ7KqyRNe"
   },
   "source": [
    "In this section **we normalize the data** using *normalizer* from sklearn. *normalizer* **normalizes samples individually to unit norm.** Each sample is rescaled independently so that its norm (l1, l2 or inf) equals one.\n",
    "Scaling is a **common operation for text classification**. We execute a normalization for each method used to encode the text. **The resulting normalized vectors will be fed as input to the classification models.** After some tests, this approach seems to improve the final performance of the model.\n",
    "\n",
    "We normalize the vectors obtained from the different encoding techniques."
   ]
  },
  {
   "cell_type": "markdown",
   "metadata": {
    "id": "cIzMIjVPyRNe"
   },
   "source": [
    "### TF-IDF Normalization"
   ]
  },
  {
   "cell_type": "code",
   "execution_count": 39,
   "metadata": {
    "id": "sXwKi-3wyRNe"
   },
   "outputs": [],
   "source": [
    "# NORMALIZING TF-IDF VECTORS\n",
    "norm_TFIDF = Normalizer(copy=False)\n",
    "norm_train_tfidf1 = norm_TFIDF.fit_transform(train_vectors_tfidf1)\n",
    "norm_test_tfidf1 = norm_TFIDF.transform(test_vectors_tfidf1)\n",
    "\n",
    "norm_train_tfidf2 = norm_TFIDF.fit_transform(train_vectors_tfidf2)\n",
    "norm_test_tfidf2 = norm_TFIDF.transform(test_vectors_tfidf2)\n",
    "\n",
    "norm_train_tfidf3 = norm_TFIDF.fit_transform(train_vectors_tfidf3)\n",
    "norm_test_tfidf3 = norm_TFIDF.transform(test_vectors_tfidf3)\n",
    "\n",
    "norm_train_tfidf4 = norm_TFIDF.fit_transform(train_vectors_tfidf4)\n",
    "norm_test_tfidf4 = norm_TFIDF.transform(test_vectors_tfidf4)\n",
    "\n",
    "norm_train_tfidf5 = norm_TFIDF.fit_transform(train_vectors_tfidf5)\n",
    "norm_test_tfidf5 = norm_TFIDF.transform(test_vectors_tfidf5)"
   ]
  },
  {
   "cell_type": "markdown",
   "metadata": {
    "id": "SAE6O8WTyRNe"
   },
   "source": [
    "### Word2Vec Normalization"
   ]
  },
  {
   "cell_type": "code",
   "execution_count": 40,
   "metadata": {
    "id": "Qf22SUkdyRNe"
   },
   "outputs": [],
   "source": [
    "# NORMALIZING WORD2VEC VECTORS\n",
    "norm_W2V = Normalizer(copy=False)\n",
    "norm_train_w2v1 = norm_W2V.fit_transform(train_vectors_w2v1)\n",
    "norm_test_w2v1 = norm_W2V.transform(test_vectors_w2v1)\n",
    "\n",
    "norm_train_w2v2 = norm_W2V.fit_transform(train_vectors_w2v2)\n",
    "norm_test_w2v2 = norm_W2V.transform(test_vectors_w2v2)\n",
    "\n",
    "norm_train_w2v3 = norm_W2V.fit_transform(train_vectors_w2v3)\n",
    "norm_test_w2v3 = norm_W2V.transform(test_vectors_w2v3)\n",
    "\n",
    "norm_train_w2v4 = norm_W2V.fit_transform(train_vectors_w2v4)\n",
    "norm_test_w2v4 = norm_W2V.transform(test_vectors_w2v4)\n",
    "\n",
    "norm_train_w2v5 = norm_W2V.fit_transform(train_vectors_w2v5)\n",
    "norm_test_w2v5 = norm_W2V.transform(test_vectors_w2v5)"
   ]
  },
  {
   "cell_type": "markdown",
   "metadata": {
    "id": "KGDhQ3XOyRNf"
   },
   "source": [
    "## 9. Algorithm Selection & Hyperparameter Tuning"
   ]
  },
  {
   "cell_type": "markdown",
   "metadata": {
    "id": "lf5onCUYyRNf"
   },
   "source": [
    "In this section we are using **different baseline models** for each **encoding methods** used.\n",
    "Basically for each encoding techniques (TF-IDF, Word2Vec) will be tested 4 models for various balanced datasets techniques(oversampling(2 techniques), undersampling(2 techniques) and mixture(1)) to see which works best  (for a total of 2 * 4 * 5 models) :\n",
    "\n",
    "1. Linear SVC baseline\n",
    "2. Logistic Regression baseline\n",
    "3. Naive Bayes baseline\n",
    "4. RandomForest"
   ]
  },
  {
   "cell_type": "markdown",
   "metadata": {},
   "source": [
    "**The one that performs best will be selected and used finally .The selected combination of model and encoding will be fine tuned.**"
   ]
  },
  {
   "cell_type": "code",
   "execution_count": 41,
   "metadata": {},
   "outputs": [],
   "source": [
    "# generic function to create different models\n",
    "from sklearn.ensemble import RandomForestClassifier\n",
    "\n",
    "def create_models(seed=42, classW=\"balanced\"):\n",
    "    models = []\n",
    "    # we can append more than one model to test\n",
    "    models.append(('LinearSVC', LinearSVC(random_state=seed, class_weight=classW)))\n",
    "    models.append(('Logit', LogisticRegression(random_state=seed, class_weight=classW, n_jobs=NUM_OF_THREADS, max_iter=20)))\n",
    "    models.append(('NaiveBayesMN', MultinomialNB()))\n",
    "    models.append(('RandomForest',RandomForestClassifier()))\n",
    "    return models"
   ]
  },
  {
   "cell_type": "markdown",
   "metadata": {
    "id": "FU9XmxJwyRNf"
   },
   "source": [
    "In order to evaluate performance of different techniques and models, a custom function is used. The following function **return a dataframe with some evaluation metrics**. <br><br>\n",
    "The metrics considered are:\n",
    "* Accuracy\n",
    "* F1 score\n",
    "* Recall\n",
    "* Precision\n",
    "* Specificity\n",
    "* True Positive num\n",
    "* True Negative num\n",
    "* False Positive num\n",
    "* False Negative num\n",
    "* Size of the Test Set"
   ]
  },
  {
   "cell_type": "code",
   "execution_count": 42,
   "metadata": {
    "id": "hwv0eUYnyRNg"
   },
   "outputs": [],
   "source": [
    "# Returns a dataframe with classification metrics and confusion matrix values\n",
    "def make_classification_score(y_test, predictions, modelName):\n",
    "    tn, fp, fn, tp = confusion_matrix(y_test, predictions).ravel()\n",
    "    prec=precision_score(y_test, predictions)\n",
    "    rec=recall_score(y_test, predictions)\n",
    "    f1=f1_score(y_test, predictions)\n",
    "    acc=accuracy_score(y_test, predictions)\n",
    "    # specificity\n",
    "    spec=tn/(tn+fp)\n",
    "\n",
    "    score = {'Model': [modelName], 'Accuracy': [acc], 'f1': [f1], 'Recall': [rec], 'Precision': [prec], \\\n",
    "        'Specificity': [spec], 'TP': [tp], 'TN': [tn], 'FP': [fp], 'FN': [fn], 'y_test size': [len(y_test)]}\n",
    "    df_score = pd.DataFrame(data=score)\n",
    "    return df_score"
   ]
  },
  {
   "cell_type": "markdown",
   "metadata": {
    "id": "h_UHfFXNyRNg"
   },
   "source": [
    "Another custom function is used in order to **automatically train - test - evaluate** all the models defined."
   ]
  },
  {
   "cell_type": "code",
   "execution_count": 43,
   "metadata": {
    "id": "0CLXMRcFyRNg"
   },
   "outputs": [],
   "source": [
    "# generic function to test the created models\n",
    "def test_models(models, X_train, y_train, X_test, y_test):\n",
    "    score = pd.DataFrame()\n",
    "    for name, model in models:\n",
    "        # in case of nayve bayes we scale the values\n",
    "        if name==\"NaiveBayesMN\":\n",
    "            scaler = MinMaxScaler()\n",
    "            X_train = scaler.fit_transform(X_train)\n",
    "            X_test = scaler.transform(X_test)\n",
    "        # fit the model with the training data\n",
    "        model.fit(X_train, y_train)\n",
    "        # make predictions with the testing data\n",
    "        preds = model.predict(X_test)\n",
    "        # compute score\n",
    "        tmp = make_classification_score(y_test, preds, name)\n",
    "        score = pd.concat([score, tmp])\n",
    "    return score"
   ]
  },
  {
   "cell_type": "code",
   "execution_count": 44,
   "metadata": {
    "id": "1_qp5wvpyRNg"
   },
   "outputs": [],
   "source": [
    "models = create_models()"
   ]
  },
  {
   "cell_type": "markdown",
   "metadata": {
    "id": "0fmttOT4yRNh"
   },
   "source": [
    "### Testing the TF-IDF Approach"
   ]
  },
  {
   "cell_type": "code",
   "execution_count": 45,
   "metadata": {},
   "outputs": [
    {
     "name": "stdout",
     "output_type": "stream",
     "text": [
      "results1\n"
     ]
    },
    {
     "name": "stderr",
     "output_type": "stream",
     "text": [
      "/Library/Frameworks/Python.framework/Versions/3.9/lib/python3.9/site-packages/sklearn/linear_model/_logistic.py:444: ConvergenceWarning: lbfgs failed to converge (status=1):\n",
      "STOP: TOTAL NO. of ITERATIONS REACHED LIMIT.\n",
      "\n",
      "Increase the number of iterations (max_iter) or scale the data as shown in:\n",
      "    https://scikit-learn.org/stable/modules/preprocessing.html\n",
      "Please also refer to the documentation for alternative solver options:\n",
      "    https://scikit-learn.org/stable/modules/linear_model.html#logistic-regression\n",
      "  n_iter_i = _check_optimize_result(\n"
     ]
    },
    {
     "name": "stdout",
     "output_type": "stream",
     "text": [
      "          Model  Accuracy        f1    Recall  Precision  Specificity     TP  \\\n",
      "0     LinearSVC  0.767888  0.769384  0.774376   0.764456     0.761400  27749   \n",
      "0         Logit  0.768530  0.769735  0.773762   0.765749     0.763297  27727   \n",
      "0  NaiveBayesMN  0.733424  0.694618  0.606352   0.812961     0.860496  21728   \n",
      "0  RandomForest  0.789348  0.778990  0.742479   0.819276     0.836217  26606   \n",
      "\n",
      "      TN    FP     FN  y_test size  \n",
      "0  27284  8550   8085        71668  \n",
      "0  27352  8482   8107        71668  \n",
      "0  30835  4999  14106        71668  \n",
      "0  29965  5869   9228        71668  \n",
      "results2\n"
     ]
    },
    {
     "name": "stderr",
     "output_type": "stream",
     "text": [
      "/Library/Frameworks/Python.framework/Versions/3.9/lib/python3.9/site-packages/sklearn/linear_model/_logistic.py:444: ConvergenceWarning: lbfgs failed to converge (status=1):\n",
      "STOP: TOTAL NO. of ITERATIONS REACHED LIMIT.\n",
      "\n",
      "Increase the number of iterations (max_iter) or scale the data as shown in:\n",
      "    https://scikit-learn.org/stable/modules/preprocessing.html\n",
      "Please also refer to the documentation for alternative solver options:\n",
      "    https://scikit-learn.org/stable/modules/linear_model.html#logistic-regression\n",
      "  n_iter_i = _check_optimize_result(\n"
     ]
    },
    {
     "name": "stdout",
     "output_type": "stream",
     "text": [
      "          Model  Accuracy        f1    Recall  Precision  Specificity     TP  \\\n",
      "0     LinearSVC  0.756865  0.758767  0.764749   0.752878     0.748981  27404   \n",
      "0         Logit  0.758135  0.760222  0.766842   0.753717     0.749428  27479   \n",
      "0  NaiveBayesMN  0.725861  0.689292  0.608165   0.795394     0.843556  21793   \n",
      "0  RandomForest  0.714977  0.677079  0.597617   0.780914     0.832338  21415   \n",
      "\n",
      "      TN    FP     FN  y_test size  \n",
      "0  26839  8995   8430        71668  \n",
      "0  26855  8979   8355        71668  \n",
      "0  30228  5606  14041        71668  \n",
      "0  29826  6008  14419        71668  \n",
      "results3\n"
     ]
    },
    {
     "name": "stderr",
     "output_type": "stream",
     "text": [
      "/Library/Frameworks/Python.framework/Versions/3.9/lib/python3.9/site-packages/sklearn/linear_model/_logistic.py:444: ConvergenceWarning: lbfgs failed to converge (status=1):\n",
      "STOP: TOTAL NO. of ITERATIONS REACHED LIMIT.\n",
      "\n",
      "Increase the number of iterations (max_iter) or scale the data as shown in:\n",
      "    https://scikit-learn.org/stable/modules/preprocessing.html\n",
      "Please also refer to the documentation for alternative solver options:\n",
      "    https://scikit-learn.org/stable/modules/linear_model.html#logistic-regression\n",
      "  n_iter_i = _check_optimize_result(\n"
     ]
    },
    {
     "name": "stdout",
     "output_type": "stream",
     "text": [
      "          Model  Accuracy        f1    Recall  Precision  Specificity    TP  \\\n",
      "0     LinearSVC  0.753880  0.755087  0.758808   0.751403     0.748953  3080   \n",
      "0         Logit  0.755112  0.756133  0.759300   0.752993     0.750924  3082   \n",
      "0  NaiveBayesMN  0.725425  0.687946  0.605322   0.796693     0.845528  2457   \n",
      "0  RandomForest  0.750678  0.752628  0.758561   0.746786     0.742794  3079   \n",
      "\n",
      "     TN    FP    FN  y_test size  \n",
      "0  3040  1019   979         8118  \n",
      "0  3048  1011   977         8118  \n",
      "0  3432   627  1602         8118  \n",
      "0  3015  1044   980         8118  \n",
      "results4\n"
     ]
    },
    {
     "name": "stderr",
     "output_type": "stream",
     "text": [
      "/Library/Frameworks/Python.framework/Versions/3.9/lib/python3.9/site-packages/sklearn/linear_model/_logistic.py:444: ConvergenceWarning: lbfgs failed to converge (status=1):\n",
      "STOP: TOTAL NO. of ITERATIONS REACHED LIMIT.\n",
      "\n",
      "Increase the number of iterations (max_iter) or scale the data as shown in:\n",
      "    https://scikit-learn.org/stable/modules/preprocessing.html\n",
      "Please also refer to the documentation for alternative solver options:\n",
      "    https://scikit-learn.org/stable/modules/linear_model.html#logistic-regression\n",
      "  n_iter_i = _check_optimize_result(\n"
     ]
    },
    {
     "name": "stdout",
     "output_type": "stream",
     "text": [
      "          Model  Accuracy        f1    Recall  Precision  Specificity    TP  \\\n",
      "0     LinearSVC  0.754570  0.439908  0.798965   0.303510     0.748479  3243   \n",
      "0         Logit  0.756650  0.441550  0.797487   0.305291     0.751048  3237   \n",
      "0  NaiveBayesMN  0.907510  0.379338  0.234294   0.995812     0.999865   951   \n",
      "0  RandomForest  0.822867  0.433783  0.562454   0.353023     0.858591  2283   \n",
      "\n",
      "      TN    FP    FN  y_test size  \n",
      "0  22146  7442   816        33647  \n",
      "0  22222  7366   822        33647  \n",
      "0  29584     4  3108        33647  \n",
      "0  25404  4184  1776        33647  \n",
      "results5\n"
     ]
    },
    {
     "name": "stderr",
     "output_type": "stream",
     "text": [
      "/Library/Frameworks/Python.framework/Versions/3.9/lib/python3.9/site-packages/sklearn/linear_model/_logistic.py:444: ConvergenceWarning: lbfgs failed to converge (status=1):\n",
      "STOP: TOTAL NO. of ITERATIONS REACHED LIMIT.\n",
      "\n",
      "Increase the number of iterations (max_iter) or scale the data as shown in:\n",
      "    https://scikit-learn.org/stable/modules/preprocessing.html\n",
      "Please also refer to the documentation for alternative solver options:\n",
      "    https://scikit-learn.org/stable/modules/linear_model.html#logistic-regression\n",
      "  n_iter_i = _check_optimize_result(\n"
     ]
    },
    {
     "name": "stdout",
     "output_type": "stream",
     "text": [
      "          Model  Accuracy        f1    Recall  Precision  Specificity     TP  \\\n",
      "0     LinearSVC  0.841446  0.830281  0.779930   0.887581     0.902293  18404   \n",
      "0         Logit  0.842458  0.832354  0.786498   0.883888     0.897808  18559   \n",
      "0  NaiveBayesMN  0.775066  0.773434  0.772090   0.774782     0.778011  18219   \n",
      "0  RandomForest  0.859359  0.846645  0.780735   0.924710     0.937125  18423   \n",
      "\n",
      "      TN    FP    FN  y_test size  \n",
      "0  21526  2331  5193        47454  \n",
      "0  21419  2438  5038        47454  \n",
      "0  18561  5296  5378        47454  \n",
      "0  22357  1500  5174        47454  \n"
     ]
    }
   ],
   "source": [
    "print(\"results1\")\n",
    "results1 = test_models(models, norm_train_tfidf1, y_train_tfidf1, norm_test_tfidf1, y_test_tfidf1)\n",
    "print(results1)\n",
    "print(\"results2\")\n",
    "results2 = test_models(models, norm_train_tfidf2, y_train_tfidf2, norm_test_tfidf2, y_test_tfidf2)\n",
    "print(results2)\n",
    "print(\"results3\")\n",
    "results3 = test_models(models, norm_train_tfidf3, y_train_tfidf3, norm_test_tfidf3, y_test_tfidf3)\n",
    "print(results3)\n",
    "print(\"results4\")\n",
    "results4 = test_models(models, norm_train_tfidf4, y_train_tfidf4, norm_test_tfidf4, y_test_tfidf4)\n",
    "print(results4)\n",
    "print(\"results5\")\n",
    "results5 = test_models(models, norm_train_tfidf5, y_train_tfidf5, norm_test_tfidf5, y_test_tfidf5)\n",
    "print(results5)"
   ]
  },
  {
   "cell_type": "markdown",
   "metadata": {
    "id": "pg25xCeUyRNh"
   },
   "source": [
    "### Testing the Word2Vec Approach"
   ]
  },
  {
   "cell_type": "code",
   "execution_count": 46,
   "metadata": {
    "id": "-ClS1Z9OyRNh"
   },
   "outputs": [
    {
     "name": "stdout",
     "output_type": "stream",
     "text": [
      "results6\n",
      "          Model  Accuracy        f1    Recall  Precision  Specificity     TP  \\\n",
      "0     LinearSVC  0.928183  0.927340  0.916588   0.938348     0.939778  32845   \n",
      "0         Logit  0.925643  0.924556  0.911230   0.938278     0.940057  32653   \n",
      "0  NaiveBayesMN  0.856519  0.851404  0.822096   0.882878     0.890942  29459   \n",
      "0  RandomForest  0.883700  0.873118  0.800301   0.960512     0.967098  28678   \n",
      "\n",
      "      TN    FP    FN  y_test size  \n",
      "0  33676  2158  2989        71668  \n",
      "0  33686  2148  3181        71668  \n",
      "0  31926  3908  6375        71668  \n",
      "0  34655  1179  7156        71668  \n",
      "results7\n"
     ]
    },
    {
     "name": "stderr",
     "output_type": "stream",
     "text": [
      "/Library/Frameworks/Python.framework/Versions/3.9/lib/python3.9/site-packages/sklearn/linear_model/_logistic.py:444: ConvergenceWarning: lbfgs failed to converge (status=1):\n",
      "STOP: TOTAL NO. of ITERATIONS REACHED LIMIT.\n",
      "\n",
      "Increase the number of iterations (max_iter) or scale the data as shown in:\n",
      "    https://scikit-learn.org/stable/modules/preprocessing.html\n",
      "Please also refer to the documentation for alternative solver options:\n",
      "    https://scikit-learn.org/stable/modules/linear_model.html#logistic-regression\n",
      "  n_iter_i = _check_optimize_result(\n"
     ]
    },
    {
     "name": "stdout",
     "output_type": "stream",
     "text": [
      "          Model  Accuracy        f1    Recall  Precision  Specificity     TP  \\\n",
      "0     LinearSVC  0.902788  0.900993  0.884663   0.917938     0.920913  31701   \n",
      "0         Logit  0.902230  0.900498  0.884830   0.916732     0.919629  31707   \n",
      "0  NaiveBayesMN  0.843919  0.839397  0.815762   0.864443     0.872077  29232   \n",
      "0  RandomForest  0.764721  0.696868  0.540883   0.979285     0.988558  19382   \n",
      "\n",
      "      TN    FP     FN  y_test size  \n",
      "0  33000  2834   4133        71668  \n",
      "0  32954  2880   4127        71668  \n",
      "0  31250  4584   6602        71668  \n",
      "0  35424   410  16452        71668  \n",
      "results8\n"
     ]
    },
    {
     "name": "stderr",
     "output_type": "stream",
     "text": [
      "/Library/Frameworks/Python.framework/Versions/3.9/lib/python3.9/site-packages/sklearn/linear_model/_logistic.py:444: ConvergenceWarning: lbfgs failed to converge (status=1):\n",
      "STOP: TOTAL NO. of ITERATIONS REACHED LIMIT.\n",
      "\n",
      "Increase the number of iterations (max_iter) or scale the data as shown in:\n",
      "    https://scikit-learn.org/stable/modules/preprocessing.html\n",
      "Please also refer to the documentation for alternative solver options:\n",
      "    https://scikit-learn.org/stable/modules/linear_model.html#logistic-regression\n",
      "  n_iter_i = _check_optimize_result(\n"
     ]
    },
    {
     "name": "stdout",
     "output_type": "stream",
     "text": [
      "          Model  Accuracy        f1    Recall  Precision  Specificity    TP  \\\n",
      "0     LinearSVC  0.900838  0.899236  0.884947   0.913995     0.916728  3592   \n",
      "0         Logit  0.899852  0.897800  0.879773   0.916581     0.919931  3571   \n",
      "0  NaiveBayesMN  0.841463  0.837068  0.814486   0.860938     0.868441  3306   \n",
      "0  RandomForest  0.870904  0.869033  0.856615   0.881816     0.885193  3477   \n",
      "\n",
      "     TN   FP   FN  y_test size  \n",
      "0  3721  338  467         8118  \n",
      "0  3734  325  488         8118  \n",
      "0  3525  534  753         8118  \n",
      "0  3593  466  582         8118  \n",
      "results9\n"
     ]
    },
    {
     "name": "stderr",
     "output_type": "stream",
     "text": [
      "/Library/Frameworks/Python.framework/Versions/3.9/lib/python3.9/site-packages/sklearn/linear_model/_logistic.py:444: ConvergenceWarning: lbfgs failed to converge (status=1):\n",
      "STOP: TOTAL NO. of ITERATIONS REACHED LIMIT.\n",
      "\n",
      "Increase the number of iterations (max_iter) or scale the data as shown in:\n",
      "    https://scikit-learn.org/stable/modules/preprocessing.html\n",
      "Please also refer to the documentation for alternative solver options:\n",
      "    https://scikit-learn.org/stable/modules/linear_model.html#logistic-regression\n",
      "  n_iter_i = _check_optimize_result(\n"
     ]
    },
    {
     "name": "stdout",
     "output_type": "stream",
     "text": [
      "          Model  Accuracy        f1    Recall  Precision  Specificity    TP  \\\n",
      "0     LinearSVC  0.937151  0.767263  0.908845   0.663847     0.940792  3689   \n",
      "0         Logit  0.937825  0.768894  0.907366   0.667089     0.941743  3683   \n",
      "0  NaiveBayesMN  0.940156  0.659639  0.508746   0.937784     0.995658  2065   \n",
      "0  RandomForest  0.953326  0.749849  0.613698   0.963636     0.997021  2491   \n",
      "\n",
      "      TN    FP    FN  y_test size  \n",
      "0  29682  1868   370        35609  \n",
      "0  29712  1838   376        35609  \n",
      "0  31413   137  1994        35609  \n",
      "0  31456    94  1568        35609  \n",
      "results10\n"
     ]
    },
    {
     "name": "stderr",
     "output_type": "stream",
     "text": [
      "/Library/Frameworks/Python.framework/Versions/3.9/lib/python3.9/site-packages/sklearn/linear_model/_logistic.py:444: ConvergenceWarning: lbfgs failed to converge (status=1):\n",
      "STOP: TOTAL NO. of ITERATIONS REACHED LIMIT.\n",
      "\n",
      "Increase the number of iterations (max_iter) or scale the data as shown in:\n",
      "    https://scikit-learn.org/stable/modules/preprocessing.html\n",
      "Please also refer to the documentation for alternative solver options:\n",
      "    https://scikit-learn.org/stable/modules/linear_model.html#logistic-regression\n",
      "  n_iter_i = _check_optimize_result(\n"
     ]
    },
    {
     "name": "stdout",
     "output_type": "stream",
     "text": [
      "          Model  Accuracy        f1    Recall  Precision  Specificity     TP  \\\n",
      "0     LinearSVC  0.966936  0.972994  0.962408   0.983817     0.974290  34408   \n",
      "0         Logit  0.965084  0.971497  0.961457   0.981750     0.970974  34374   \n",
      "0  NaiveBayesMN  0.919158  0.932927  0.908425   0.958788     0.936589  32478   \n",
      "0  RandomForest  0.939135  0.948909  0.913264   0.987449     0.981149  32651   \n",
      "\n",
      "      TN    FP    FN  y_test size  \n",
      "0  21449   566  1344        57767  \n",
      "0  21376   639  1378        57767  \n",
      "0  20619  1396  3274        57767  \n",
      "0  21600   415  3101        57767  \n"
     ]
    }
   ],
   "source": [
    "print(\"results6\")\n",
    "results6 = test_models(models, norm_train_w2v1, y_train_w2v1, norm_test_w2v1, y_test_w2v1)\n",
    "print(results6)\n",
    "print(\"results7\")\n",
    "results7 = test_models(models, norm_train_w2v2, y_train_w2v2, norm_test_w2v2, y_test_w2v2)\n",
    "print(results7)\n",
    "print(\"results8\")\n",
    "results8 = test_models(models, norm_train_w2v3, y_train_w2v3, norm_test_w2v3, y_test_w2v3)\n",
    "print(results8)\n",
    "print(\"results9\")\n",
    "results9 = test_models(models, norm_train_w2v4, y_train_w2v4, norm_test_w2v4, y_test_w2v4)\n",
    "print(results9)\n",
    "print(\"results10\")\n",
    "results10 = test_models(models, norm_train_w2v5, y_train_w2v5, norm_test_w2v5, y_test_w2v5)\n",
    "print(results10)"
   ]
  },
  {
   "cell_type": "markdown",
   "metadata": {},
   "source": [
    "##### Result of the previous section ->\n",
    "\n",
    "We identified a good encoding and a good model: **Naive Bayes with word2vec and undersampling done with EditedNearestNeighbours**\n",
    "But ig it is biased little as in this case we have done oversampling / undersampling on both the train and test data\n",
    "<hr>\n",
    "\n",
    "Conclusion : **If your future data also comes with imbalance(after deploying), don't balance the Validation set, only do oversample/undersample in the train set only. If you balance the Validation set, your model may work well(may get better score in Val) but in the future after deploying, it may not work better so while training, validate with imbalance data only.**\n",
    "<br>"
   ]
  },
  {
   "cell_type": "code",
   "execution_count": 50,
   "metadata": {},
   "outputs": [],
   "source": [
    "test_vectors_tfidf1 = test_vectors_tfidf \n",
    "test_vectors_tfidf2 = test_vectors_tfidf \n",
    "test_vectors_tfidf3 = test_vectors_tfidf \n",
    "test_vectors_tfidf4 = test_vectors_tfidf \n",
    "test_vectors_tfidf5 = test_vectors_tfidf \n",
    "y_test_tfidf1 = y_test\n",
    "y_test_tfidf2 = y_test\n",
    "y_test_tfidf3 = y_test\n",
    "y_test_tfidf4 = y_test\n",
    "y_test_tfidf5 = y_test\n",
    "test_vectors_w2v1  = test_vectors_w2v\n",
    "test_vectors_w2v3  = test_vectors_w2v\n",
    "test_vectors_w2v4  = test_vectors_w2v\n",
    "test_vectors_w2v5  = test_vectors_w2v\n",
    "test_vectors_w2v2  = test_vectors_w2v\n",
    "y_test_w2v1   = y_test\n",
    "y_test_w2v2   = y_test\n",
    "y_test_w2v3   = y_test\n",
    "y_test_w2v4   = y_test\n",
    "y_test_w2v5   = y_test\n",
    "# Normalization \n",
    "## That is because your model works on the representation given by its input vectors. The scale of those numbers is part of the representation. This is a bit like converting between feet and metres . . . a model or formula would work with just one type of unit normally.\n",
    "\n",
    "norm_test_tfidf1 = norm_TFIDF.transform(test_vectors_tfidf1)\n",
    "norm_test_tfidf2 = norm_TFIDF.transform(test_vectors_tfidf2)\n",
    "norm_test_tfidf3 = norm_TFIDF.transform(test_vectors_tfidf3)\n",
    "norm_test_tfidf4 = norm_TFIDF.transform(test_vectors_tfidf4)\n",
    "norm_test_tfidf5 = norm_TFIDF.transform(test_vectors_tfidf5)\n",
    "norm_test_w2v1 = norm_W2V.transform(test_vectors_w2v1)\n",
    "norm_test_w2v2 = norm_W2V.transform(test_vectors_w2v2)\n",
    "norm_test_w2v3 = norm_W2V.transform(test_vectors_w2v3)\n",
    "norm_test_w2v4 = norm_W2V.transform(test_vectors_w2v4)\n",
    "norm_test_w2v5 = norm_W2V.transform(test_vectors_w2v5)"
   ]
  },
  {
   "cell_type": "code",
   "execution_count": 51,
   "metadata": {},
   "outputs": [
    {
     "name": "stdout",
     "output_type": "stream",
     "text": [
      "results1\n"
     ]
    },
    {
     "name": "stderr",
     "output_type": "stream",
     "text": [
      "/Library/Frameworks/Python.framework/Versions/3.9/lib/python3.9/site-packages/sklearn/linear_model/_logistic.py:444: ConvergenceWarning: lbfgs failed to converge (status=1):\n",
      "STOP: TOTAL NO. of ITERATIONS REACHED LIMIT.\n",
      "\n",
      "Increase the number of iterations (max_iter) or scale the data as shown in:\n",
      "    https://scikit-learn.org/stable/modules/preprocessing.html\n",
      "Please also refer to the documentation for alternative solver options:\n",
      "    https://scikit-learn.org/stable/modules/linear_model.html#logistic-regression\n",
      "  n_iter_i = _check_optimize_result(\n"
     ]
    },
    {
     "name": "stdout",
     "output_type": "stream",
     "text": [
      "          Model  Accuracy        f1    Recall  Precision  Specificity    TP  \\\n",
      "0     LinearSVC  0.759833  0.387287  0.745997   0.261530     0.761400  3028   \n",
      "0         Logit  0.761512  0.388875  0.745750   0.263012     0.763297  3027   \n",
      "0  NaiveBayesMN  0.832151  0.413660  0.581917   0.320880     0.860496  2362   \n",
      "0  RandomForest  0.813250  0.400258  0.612466   0.297262     0.835994  2486   \n",
      "\n",
      "      TN    FP    FN  y_test size  \n",
      "0  27284  8550  1031        39893  \n",
      "0  27352  8482  1032        39893  \n",
      "0  30835  4999  1697        39893  \n",
      "0  29957  5877  1573        39893  \n",
      "results2\n"
     ]
    },
    {
     "name": "stderr",
     "output_type": "stream",
     "text": [
      "/Library/Frameworks/Python.framework/Versions/3.9/lib/python3.9/site-packages/sklearn/linear_model/_logistic.py:444: ConvergenceWarning: lbfgs failed to converge (status=1):\n",
      "STOP: TOTAL NO. of ITERATIONS REACHED LIMIT.\n",
      "\n",
      "Increase the number of iterations (max_iter) or scale the data as shown in:\n",
      "    https://scikit-learn.org/stable/modules/preprocessing.html\n",
      "Please also refer to the documentation for alternative solver options:\n",
      "    https://scikit-learn.org/stable/modules/linear_model.html#logistic-regression\n",
      "  n_iter_i = _check_optimize_result(\n"
     ]
    },
    {
     "name": "stdout",
     "output_type": "stream",
     "text": [
      "          Model  Accuracy        f1    Recall  Precision  Specificity    TP  \\\n",
      "0     LinearSVC  0.750232  0.382805  0.761271   0.255689     0.748981  3090   \n",
      "0         Logit  0.750808  0.383886  0.762996   0.256459     0.749428  3097   \n",
      "0  NaiveBayesMN  0.819392  0.405773  0.606061   0.304984     0.843556  2460   \n",
      "0  RandomForest  0.807560  0.384609  0.591032   0.285052     0.832087  2399   \n",
      "\n",
      "      TN    FP    FN  y_test size  \n",
      "0  26839  8995   969        39893  \n",
      "0  26855  8979   962        39893  \n",
      "0  30228  5606  1599        39893  \n",
      "0  29817  6017  1660        39893  \n",
      "results3\n"
     ]
    },
    {
     "name": "stderr",
     "output_type": "stream",
     "text": [
      "/Library/Frameworks/Python.framework/Versions/3.9/lib/python3.9/site-packages/sklearn/linear_model/_logistic.py:444: ConvergenceWarning: lbfgs failed to converge (status=1):\n",
      "STOP: TOTAL NO. of ITERATIONS REACHED LIMIT.\n",
      "\n",
      "Increase the number of iterations (max_iter) or scale the data as shown in:\n",
      "    https://scikit-learn.org/stable/modules/preprocessing.html\n",
      "Please also refer to the documentation for alternative solver options:\n",
      "    https://scikit-learn.org/stable/modules/linear_model.html#logistic-regression\n",
      "  n_iter_i = _check_optimize_result(\n"
     ]
    },
    {
     "name": "stdout",
     "output_type": "stream",
     "text": [
      "          Model  Accuracy        f1    Recall  Precision  Specificity    TP  \\\n",
      "0     LinearSVC  0.749931  0.381755  0.758808   0.255030     0.748926  3080   \n",
      "0         Logit  0.750608  0.382548  0.759300   0.255683     0.749623  3082   \n",
      "0  NaiveBayesMN  0.820219  0.406586  0.605322   0.306092     0.844561  2457   \n",
      "0  RandomForest  0.743163  0.375244  0.758068   0.249331     0.741475  3077   \n",
      "\n",
      "      TN    FP    FN  y_test size  \n",
      "0  26837  8997   979        39893  \n",
      "0  26862  8972   977        39893  \n",
      "0  30264  5570  1602        39893  \n",
      "0  26570  9264   982        39893  \n",
      "results4\n"
     ]
    },
    {
     "name": "stderr",
     "output_type": "stream",
     "text": [
      "/Library/Frameworks/Python.framework/Versions/3.9/lib/python3.9/site-packages/sklearn/linear_model/_logistic.py:444: ConvergenceWarning: lbfgs failed to converge (status=1):\n",
      "STOP: TOTAL NO. of ITERATIONS REACHED LIMIT.\n",
      "\n",
      "Increase the number of iterations (max_iter) or scale the data as shown in:\n",
      "    https://scikit-learn.org/stable/modules/preprocessing.html\n",
      "Please also refer to the documentation for alternative solver options:\n",
      "    https://scikit-learn.org/stable/modules/linear_model.html#logistic-regression\n",
      "  n_iter_i = _check_optimize_result(\n"
     ]
    },
    {
     "name": "stdout",
     "output_type": "stream",
     "text": [
      "          Model  Accuracy        f1    Recall  Precision  Specificity    TP  \\\n",
      "0     LinearSVC  0.709724  0.359017  0.798965   0.231527     0.699615  3243   \n",
      "0         Logit  0.711704  0.360167  0.797487   0.232610     0.701987  3237   \n",
      "0  NaiveBayesMN  0.921415  0.377606  0.234294   0.972393     0.999247   951   \n",
      "0  RandomForest  0.822049  0.390382  0.559990   0.299631     0.851733  2273   \n",
      "\n",
      "      TN     FP    FN  y_test size  \n",
      "0  25070  10764   816        39893  \n",
      "0  25155  10679   822        39893  \n",
      "0  35807     27  3108        39893  \n",
      "0  30521   5313  1786        39893  \n",
      "results5\n",
      "          Model  Accuracy        f1    Recall  Precision  Specificity    TP  \\\n",
      "0     LinearSVC  0.791793  0.380242  0.627741   0.272718     0.810376  2548   \n",
      "0         Logit  0.787281  0.377859  0.634885   0.268970     0.804543  2577   \n",
      "0  NaiveBayesMN  0.743238  0.376226  0.761025   0.249879     0.741223  3089   \n",
      "0  RandomForest  0.847041  0.397750  0.496428   0.331796     0.886756  2015   \n",
      "\n",
      "      TN    FP    FN  y_test size  \n",
      "0  29039  6795  1511        39893  \n",
      "0  28830  7004  1482        39893  \n",
      "0  26561  9273   970        39893  \n",
      "0  31776  4058  2044        39893  \n",
      "results6\n",
      "          Model  Accuracy        f1    Recall  Precision  Specificity    TP  \\\n",
      "0     LinearSVC  0.931391  0.717748  0.857354   0.617240     0.939778  3480   \n",
      "0         Logit  0.930815  0.714108  0.849224   0.616086     0.940057  3447   \n",
      "0  NaiveBayesMN  0.882786  0.584651  0.810791   0.457147     0.890942  3291   \n",
      "0  RandomForest  0.938761  0.697011  0.692289   0.701798     0.966680  2810   \n",
      "\n",
      "      TN    FP    FN  y_test size  \n",
      "0  33676  2158   579        39893  \n",
      "0  33686  2148   612        39893  \n",
      "0  31926  3908   768        39893  \n",
      "0  34640  1194  1249        39893  \n",
      "results7\n"
     ]
    },
    {
     "name": "stderr",
     "output_type": "stream",
     "text": [
      "/Library/Frameworks/Python.framework/Versions/3.9/lib/python3.9/site-packages/sklearn/linear_model/_logistic.py:444: ConvergenceWarning: lbfgs failed to converge (status=1):\n",
      "STOP: TOTAL NO. of ITERATIONS REACHED LIMIT.\n",
      "\n",
      "Increase the number of iterations (max_iter) or scale the data as shown in:\n",
      "    https://scikit-learn.org/stable/modules/preprocessing.html\n",
      "Please also refer to the documentation for alternative solver options:\n",
      "    https://scikit-learn.org/stable/modules/linear_model.html#logistic-regression\n",
      "  n_iter_i = _check_optimize_result(\n"
     ]
    },
    {
     "name": "stdout",
     "output_type": "stream",
     "text": [
      "          Model  Accuracy        f1    Recall  Precision  Specificity    TP  \\\n",
      "0     LinearSVC  0.917053  0.684165  0.882976   0.558429     0.920913  3584   \n",
      "0         Logit  0.915925  0.681300  0.883222   0.554524     0.919629  3585   \n",
      "0  NaiveBayesMN  0.866292  0.553715  0.815225   0.419232     0.872077  3309   \n",
      "0  RandomForest  0.943048  0.660084  0.543484   0.840381     0.988307  2206   \n",
      "\n",
      "      TN    FP    FN  y_test size  \n",
      "0  33000  2834   475        39893  \n",
      "0  32954  2880   474        39893  \n",
      "0  31250  4584   750        39893  \n",
      "0  35415   419  1853        39893  \n",
      "results8\n"
     ]
    },
    {
     "name": "stderr",
     "output_type": "stream",
     "text": [
      "/Library/Frameworks/Python.framework/Versions/3.9/lib/python3.9/site-packages/sklearn/linear_model/_logistic.py:444: ConvergenceWarning: lbfgs failed to converge (status=1):\n",
      "STOP: TOTAL NO. of ITERATIONS REACHED LIMIT.\n",
      "\n",
      "Increase the number of iterations (max_iter) or scale the data as shown in:\n",
      "    https://scikit-learn.org/stable/modules/preprocessing.html\n",
      "Please also refer to the documentation for alternative solver options:\n",
      "    https://scikit-learn.org/stable/modules/linear_model.html#logistic-regression\n",
      "  n_iter_i = _check_optimize_result(\n"
     ]
    },
    {
     "name": "stdout",
     "output_type": "stream",
     "text": [
      "          Model  Accuracy        f1    Recall  Precision  Specificity    TP  \\\n",
      "0     LinearSVC  0.913067  0.674427  0.884947   0.544820     0.916253  3592   \n",
      "0         Logit  0.912115  0.670736  0.879773   0.541964     0.915778  3571   \n",
      "0  NaiveBayesMN  0.866167  0.553259  0.814486   0.418905     0.872021  3306   \n",
      "0  RandomForest  0.882536  0.596869  0.854644   0.458559     0.885695  3469   \n",
      "\n",
      "      TN    FP   FN  y_test size  \n",
      "0  32833  3001  467        39893  \n",
      "0  32816  3018  488        39893  \n",
      "0  31248  4586  753        39893  \n",
      "0  31738  4096  590        39893  \n",
      "results9\n"
     ]
    },
    {
     "name": "stderr",
     "output_type": "stream",
     "text": [
      "/Library/Frameworks/Python.framework/Versions/3.9/lib/python3.9/site-packages/sklearn/linear_model/_logistic.py:444: ConvergenceWarning: lbfgs failed to converge (status=1):\n",
      "STOP: TOTAL NO. of ITERATIONS REACHED LIMIT.\n",
      "\n",
      "Increase the number of iterations (max_iter) or scale the data as shown in:\n",
      "    https://scikit-learn.org/stable/modules/preprocessing.html\n",
      "Please also refer to the documentation for alternative solver options:\n",
      "    https://scikit-learn.org/stable/modules/linear_model.html#logistic-regression\n",
      "  n_iter_i = _check_optimize_result(\n"
     ]
    },
    {
     "name": "stdout",
     "output_type": "stream",
     "text": [
      "          Model  Accuracy        f1    Recall  Precision  Specificity    TP  \\\n",
      "0     LinearSVC  0.893841  0.635322  0.908845   0.488351     0.892142  3689   \n",
      "0         Logit  0.893064  0.633253  0.907366   0.486333     0.891444  3683   \n",
      "0  NaiveBayesMN  0.932620  0.605749  0.508746   0.748460     0.980633  2065   \n",
      "0  RandomForest  0.942396  0.684687  0.614683   0.772685     0.979517  2495   \n",
      "\n",
      "      TN    FP    FN  y_test size  \n",
      "0  31969  3865   370        39893  \n",
      "0  31944  3890   376        39893  \n",
      "0  35140   694  1994        39893  \n",
      "0  35100   734  1564        39893  \n",
      "results10\n"
     ]
    },
    {
     "name": "stderr",
     "output_type": "stream",
     "text": [
      "/Library/Frameworks/Python.framework/Versions/3.9/lib/python3.9/site-packages/sklearn/linear_model/_logistic.py:444: ConvergenceWarning: lbfgs failed to converge (status=1):\n",
      "STOP: TOTAL NO. of ITERATIONS REACHED LIMIT.\n",
      "\n",
      "Increase the number of iterations (max_iter) or scale the data as shown in:\n",
      "    https://scikit-learn.org/stable/modules/preprocessing.html\n",
      "Please also refer to the documentation for alternative solver options:\n",
      "    https://scikit-learn.org/stable/modules/linear_model.html#logistic-regression\n",
      "  n_iter_i = _check_optimize_result(\n"
     ]
    },
    {
     "name": "stdout",
     "output_type": "stream",
     "text": [
      "          Model  Accuracy        f1    Recall  Precision  Specificity    TP  \\\n",
      "0     LinearSVC  0.861329  0.576157  0.926337   0.418103     0.853966  3760   \n",
      "0         Logit  0.850249  0.558789  0.932003   0.399009     0.840989  3783   \n",
      "0  NaiveBayesMN  0.807184  0.486241  0.896773   0.333547     0.797036  3640   \n",
      "0  RandomForest  0.868774  0.572827  0.864745   0.428258     0.869230  3510   \n",
      "\n",
      "      TN    FP   FN  y_test size  \n",
      "0  30601  5233  299        39893  \n",
      "0  30136  5698  276        39893  \n",
      "0  28561  7273  419        39893  \n",
      "0  31148  4686  549        39893  \n"
     ]
    }
   ],
   "source": [
    "print(\"results1\")\n",
    "results1 = test_models(models, norm_train_tfidf1, y_train_tfidf1, norm_test_tfidf1, y_test_tfidf1)\n",
    "print(results1)\n",
    "print(\"results2\")\n",
    "results2 = test_models(models, norm_train_tfidf2, y_train_tfidf2, norm_test_tfidf2, y_test_tfidf2)\n",
    "print(results2)\n",
    "print(\"results3\")\n",
    "results3 = test_models(models, norm_train_tfidf3, y_train_tfidf3, norm_test_tfidf3, y_test_tfidf3)\n",
    "print(results3)\n",
    "print(\"results4\")\n",
    "results4 = test_models(models, norm_train_tfidf4, y_train_tfidf4, norm_test_tfidf4, y_test_tfidf4)\n",
    "print(results4)\n",
    "print(\"results5\")\n",
    "results5 = test_models(models, norm_train_tfidf5, y_train_tfidf5, norm_test_tfidf5, y_test_tfidf5)\n",
    "print(results5)\n",
    "print(\"results6\")\n",
    "results6 = test_models(models, norm_train_w2v1, y_train_w2v1, norm_test_w2v1, y_test_w2v1)\n",
    "print(results6)\n",
    "print(\"results7\")\n",
    "results7 = test_models(models, norm_train_w2v2, y_train_w2v2, norm_test_w2v2, y_test_w2v2)\n",
    "print(results7)\n",
    "print(\"results8\")\n",
    "results8 = test_models(models, norm_train_w2v3, y_train_w2v3, norm_test_w2v3, y_test_w2v3)\n",
    "print(results8)\n",
    "print(\"results9\")\n",
    "results9 = test_models(models, norm_train_w2v4, y_train_w2v4, norm_test_w2v4, y_test_w2v4)\n",
    "print(results9)\n",
    "print(\"results10\")\n",
    "results10 = test_models(models, norm_train_w2v5, y_train_w2v5, norm_test_w2v5, y_test_w2v5)\n",
    "print(results10)"
   ]
  },
  {
   "cell_type": "markdown",
   "metadata": {},
   "source": [
    "#### **Now again we can see NaiveBayes performed better so maybe it happened due to dataset**\n",
    "\n",
    "Naive Bayes is very useful when the **features are “counts” based or “discrete measurements” based**, where the features are independent of each other. Naive Bayes works very well when the classes (binary and multiple) are nicely separable. NB can be used in an incremental learning style, where you can update the model by modifying the class conditionals when new data is added to the training process. NB works relatively well in text classification setting, when the features are word counts. NB is extremely fast and approximate. NB is non-parametric.\n",
    "\n",
    "But for future datasets it maynot be the same case so we will try to build for RandomForest and NaiveBayes both.\n",
    "Random forest is an ensemble technique, where one combines the outputs of several trees in the forest to make the prediction. Random forest is almost non-parametric except for some of the hyper-parameters like number of trees, feature subspace ratio, etc. Random forest takes time to train and consumes more time to predict proportional to the number of trees. Random forest method works for all types of data {numeric, cardinal, ordinal}."
   ]
  },
  {
   "cell_type": "markdown",
   "metadata": {
    "id": "iM2vhli8yRNi"
   },
   "source": [
    "### RandomizedSearch to find the Best Parameters"
   ]
  },
  {
   "cell_type": "markdown",
   "metadata": {
    "id": "Ue-8UAIByRNi"
   },
   "source": [
    "Now we perform an **hyperparameter search** in order to **find the best parameters**. For this purpose we **set up a parameter grid for the model**. The complete list of parameter for each model can be found on the documentation provided by sklearn."
   ]
  },
  {
   "cell_type": "code",
   "execution_count": 54,
   "metadata": {
    "id": "-0iTVudNyRNi"
   },
   "outputs": [],
   "source": [
    "# LOGISTIC PARAM GRID\n",
    "logistic_param = {\"penalty\" : [\"l1\",\"l2\",\"elasticnet\",\"none\"],\n",
    "                \"tol\" : [0.0004, 0.004, 0.04, 0.4],\n",
    "                \"C\" : [0.5, 1, 1.5, 2, 5],\n",
    "                \"random_state\" : [42],\n",
    "                \"solver\" : [\"saga\", \"sag\", \"liblinear\", \"lbfgs\", \"newton-cg\"],\n",
    "                \"max_iter\" : [100,200,300,400,500]\n",
    "            }"
   ]
  },
  {
   "cell_type": "code",
   "execution_count": 55,
   "metadata": {
    "id": "2M5rkhPvyRNi"
   },
   "outputs": [
    {
     "name": "stderr",
     "output_type": "stream",
     "text": [
      "/Library/Frameworks/Python.framework/Versions/3.9/lib/python3.9/site-packages/sklearn/linear_model/_logistic.py:1113: UserWarning: Setting penalty='none' will ignore the C and l1_ratio parameters\n",
      "  warnings.warn(\n",
      "/Library/Frameworks/Python.framework/Versions/3.9/lib/python3.9/site-packages/sklearn/linear_model/_logistic.py:1113: UserWarning: Setting penalty='none' will ignore the C and l1_ratio parameters\n",
      "  warnings.warn(\n",
      "/Library/Frameworks/Python.framework/Versions/3.9/lib/python3.9/site-packages/sklearn/linear_model/_logistic.py:1113: UserWarning: Setting penalty='none' will ignore the C and l1_ratio parameters\n",
      "  warnings.warn(\n",
      "/Library/Frameworks/Python.framework/Versions/3.9/lib/python3.9/site-packages/sklearn/linear_model/_logistic.py:1113: UserWarning: Setting penalty='none' will ignore the C and l1_ratio parameters\n",
      "  warnings.warn(\n"
     ]
    },
    {
     "data": {
      "text/html": [
       "<div>\n",
       "<style scoped>\n",
       "    .dataframe tbody tr th:only-of-type {\n",
       "        vertical-align: middle;\n",
       "    }\n",
       "\n",
       "    .dataframe tbody tr th {\n",
       "        vertical-align: top;\n",
       "    }\n",
       "\n",
       "    .dataframe thead th {\n",
       "        text-align: right;\n",
       "    }\n",
       "</style>\n",
       "<table border=\"1\" class=\"dataframe\">\n",
       "  <thead>\n",
       "    <tr style=\"text-align: right;\">\n",
       "      <th></th>\n",
       "      <th>Model</th>\n",
       "      <th>Accuracy</th>\n",
       "      <th>f1</th>\n",
       "      <th>Recall</th>\n",
       "      <th>Precision</th>\n",
       "      <th>Specificity</th>\n",
       "      <th>TP</th>\n",
       "      <th>TN</th>\n",
       "      <th>FP</th>\n",
       "      <th>FN</th>\n",
       "      <th>y_test size</th>\n",
       "    </tr>\n",
       "  </thead>\n",
       "  <tbody>\n",
       "    <tr>\n",
       "      <th>0</th>\n",
       "      <td>logit_tuned_w2v</td>\n",
       "      <td>0.917128</td>\n",
       "      <td>0.684722</td>\n",
       "      <td>0.884454</td>\n",
       "      <td>0.558581</td>\n",
       "      <td>0.920829</td>\n",
       "      <td>3590</td>\n",
       "      <td>32997</td>\n",
       "      <td>2837</td>\n",
       "      <td>469</td>\n",
       "      <td>39893</td>\n",
       "    </tr>\n",
       "  </tbody>\n",
       "</table>\n",
       "</div>"
      ],
      "text/plain": [
       "             Model  Accuracy        f1    Recall  Precision  Specificity  \\\n",
       "0  logit_tuned_w2v  0.917128  0.684722  0.884454   0.558581     0.920829   \n",
       "\n",
       "     TP     TN    FP   FN  y_test size  \n",
       "0  3590  32997  2837  469        39893  "
      ]
     },
     "execution_count": 55,
     "metadata": {},
     "output_type": "execute_result"
    }
   ],
   "source": [
    "# running the search and fitting the model\n",
    "final_model = RandomizedSearchCV(LogisticRegression(), \n",
    "                                logistic_param, \n",
    "                                random_state=42, \n",
    "                                cv=4, \n",
    "                                verbose=-1, \n",
    "                                n_jobs=NUM_OF_THREADS, \n",
    "                                n_iter=4)\n",
    "                                \n",
    "final_model.fit(norm_train_w2v2, y_train_w2v2)\n",
    "# make predictions with the testing data\n",
    "preds = final_model.predict(norm_test_w2v2)\n",
    "# compute score\n",
    "make_classification_score(y_test_w2v2, preds, \"logit_tuned_w2v\")"
   ]
  },
  {
   "cell_type": "code",
   "execution_count": 56,
   "metadata": {},
   "outputs": [
    {
     "name": "stdout",
     "output_type": "stream",
     "text": [
      "Fitting 3 folds for each of 10 candidates, totalling 30 fits\n"
     ]
    },
    {
     "name": "stderr",
     "output_type": "stream",
     "text": [
      "/Library/Frameworks/Python.framework/Versions/3.9/lib/python3.9/site-packages/sklearn/ensemble/_forest.py:427: FutureWarning: `max_features='auto'` has been deprecated in 1.1 and will be removed in 1.3. To keep the past behaviour, explicitly set `max_features='sqrt'` or remove this parameter as it is also the default value for RandomForestClassifiers and ExtraTreesClassifiers.\n",
      "  warn(\n",
      "/Library/Frameworks/Python.framework/Versions/3.9/lib/python3.9/site-packages/sklearn/ensemble/_forest.py:427: FutureWarning: `max_features='auto'` has been deprecated in 1.1 and will be removed in 1.3. To keep the past behaviour, explicitly set `max_features='sqrt'` or remove this parameter as it is also the default value for RandomForestClassifiers and ExtraTreesClassifiers.\n",
      "  warn(\n",
      "/Library/Frameworks/Python.framework/Versions/3.9/lib/python3.9/site-packages/sklearn/ensemble/_forest.py:427: FutureWarning: `max_features='auto'` has been deprecated in 1.1 and will be removed in 1.3. To keep the past behaviour, explicitly set `max_features='sqrt'` or remove this parameter as it is also the default value for RandomForestClassifiers and ExtraTreesClassifiers.\n",
      "  warn(\n",
      "/Library/Frameworks/Python.framework/Versions/3.9/lib/python3.9/site-packages/sklearn/ensemble/_forest.py:427: FutureWarning: `max_features='auto'` has been deprecated in 1.1 and will be removed in 1.3. To keep the past behaviour, explicitly set `max_features='sqrt'` or remove this parameter as it is also the default value for RandomForestClassifiers and ExtraTreesClassifiers.\n",
      "  warn(\n",
      "/Library/Frameworks/Python.framework/Versions/3.9/lib/python3.9/site-packages/sklearn/ensemble/_forest.py:427: FutureWarning: `max_features='auto'` has been deprecated in 1.1 and will be removed in 1.3. To keep the past behaviour, explicitly set `max_features='sqrt'` or remove this parameter as it is also the default value for RandomForestClassifiers and ExtraTreesClassifiers.\n",
      "  warn(\n",
      "/Library/Frameworks/Python.framework/Versions/3.9/lib/python3.9/site-packages/sklearn/ensemble/_forest.py:427: FutureWarning: `max_features='auto'` has been deprecated in 1.1 and will be removed in 1.3. To keep the past behaviour, explicitly set `max_features='sqrt'` or remove this parameter as it is also the default value for RandomForestClassifiers and ExtraTreesClassifiers.\n",
      "  warn(\n",
      "/Library/Frameworks/Python.framework/Versions/3.9/lib/python3.9/site-packages/sklearn/ensemble/_forest.py:427: FutureWarning: `max_features='auto'` has been deprecated in 1.1 and will be removed in 1.3. To keep the past behaviour, explicitly set `max_features='sqrt'` or remove this parameter as it is also the default value for RandomForestClassifiers and ExtraTreesClassifiers.\n",
      "  warn(\n",
      "/Library/Frameworks/Python.framework/Versions/3.9/lib/python3.9/site-packages/sklearn/ensemble/_forest.py:427: FutureWarning: `max_features='auto'` has been deprecated in 1.1 and will be removed in 1.3. To keep the past behaviour, explicitly set `max_features='sqrt'` or remove this parameter as it is also the default value for RandomForestClassifiers and ExtraTreesClassifiers.\n",
      "  warn(\n",
      "/Library/Frameworks/Python.framework/Versions/3.9/lib/python3.9/site-packages/sklearn/ensemble/_forest.py:427: FutureWarning: `max_features='auto'` has been deprecated in 1.1 and will be removed in 1.3. To keep the past behaviour, explicitly set `max_features='sqrt'` or remove this parameter as it is also the default value for RandomForestClassifiers and ExtraTreesClassifiers.\n",
      "  warn(\n"
     ]
    },
    {
     "name": "stdout",
     "output_type": "stream",
     "text": [
      "[CV] END bootstrap=True, max_depth=2, max_features=sqrt, min_samples_leaf=1, min_samples_split=2, n_estimators=17; total time=   9.4s\n",
      "[CV] END bootstrap=True, max_depth=2, max_features=sqrt, min_samples_leaf=1, min_samples_split=2, n_estimators=17; total time=   8.9s\n",
      "[CV] END bootstrap=True, max_depth=2, max_features=sqrt, min_samples_leaf=1, min_samples_split=2, n_estimators=17; total time=   9.0s\n",
      "[CV] END bootstrap=False, max_depth=2, max_features=auto, min_samples_leaf=1, min_samples_split=2, n_estimators=41; total time=  30.4s\n",
      "[CV] END bootstrap=False, max_depth=2, max_features=auto, min_samples_leaf=1, min_samples_split=2, n_estimators=41; total time=  30.5s\n",
      "[CV] END bootstrap=False, max_depth=2, max_features=auto, min_samples_leaf=1, min_samples_split=2, n_estimators=41; total time=  30.5s\n",
      "[CV] END bootstrap=False, max_depth=2, max_features=auto, min_samples_leaf=1, min_samples_split=5, n_estimators=64; total time=  46.4s\n",
      "[CV] END bootstrap=False, max_depth=2, max_features=auto, min_samples_leaf=2, min_samples_split=2, n_estimators=64; total time=  46.7s\n",
      "[CV] END bootstrap=False, max_depth=2, max_features=auto, min_samples_leaf=1, min_samples_split=5, n_estimators=64; total time=  46.8s\n",
      "[CV] END bootstrap=False, max_depth=2, max_features=auto, min_samples_leaf=1, min_samples_split=5, n_estimators=64; total time=  46.8s\n",
      "[CV] END bootstrap=False, max_depth=2, max_features=auto, min_samples_leaf=2, min_samples_split=2, n_estimators=64; total time=  46.9s\n",
      "[CV] END bootstrap=False, max_depth=2, max_features=auto, min_samples_leaf=2, min_samples_split=2, n_estimators=64; total time=  46.9s\n",
      "[CV] END bootstrap=True, max_depth=2, max_features=sqrt, min_samples_leaf=2, min_samples_split=2, n_estimators=33; total time=  16.4s\n"
     ]
    },
    {
     "name": "stderr",
     "output_type": "stream",
     "text": [
      "/Library/Frameworks/Python.framework/Versions/3.9/lib/python3.9/site-packages/sklearn/ensemble/_forest.py:427: FutureWarning: `max_features='auto'` has been deprecated in 1.1 and will be removed in 1.3. To keep the past behaviour, explicitly set `max_features='sqrt'` or remove this parameter as it is also the default value for RandomForestClassifiers and ExtraTreesClassifiers.\n",
      "  warn(\n",
      "/Library/Frameworks/Python.framework/Versions/3.9/lib/python3.9/site-packages/sklearn/ensemble/_forest.py:427: FutureWarning: `max_features='auto'` has been deprecated in 1.1 and will be removed in 1.3. To keep the past behaviour, explicitly set `max_features='sqrt'` or remove this parameter as it is also the default value for RandomForestClassifiers and ExtraTreesClassifiers.\n",
      "  warn(\n",
      "/Library/Frameworks/Python.framework/Versions/3.9/lib/python3.9/site-packages/sklearn/ensemble/_forest.py:427: FutureWarning: `max_features='auto'` has been deprecated in 1.1 and will be removed in 1.3. To keep the past behaviour, explicitly set `max_features='sqrt'` or remove this parameter as it is also the default value for RandomForestClassifiers and ExtraTreesClassifiers.\n",
      "  warn(\n"
     ]
    },
    {
     "name": "stdout",
     "output_type": "stream",
     "text": [
      "[CV] END bootstrap=True, max_depth=2, max_features=auto, min_samples_leaf=1, min_samples_split=5, n_estimators=17; total time=   8.5s\n",
      "[CV] END bootstrap=True, max_depth=2, max_features=auto, min_samples_leaf=1, min_samples_split=5, n_estimators=17; total time=   8.4s\n",
      "[CV] END bootstrap=True, max_depth=2, max_features=auto, min_samples_leaf=1, min_samples_split=5, n_estimators=17; total time=   8.5s\n"
     ]
    },
    {
     "name": "stderr",
     "output_type": "stream",
     "text": [
      "/Library/Frameworks/Python.framework/Versions/3.9/lib/python3.9/site-packages/sklearn/ensemble/_forest.py:427: FutureWarning: `max_features='auto'` has been deprecated in 1.1 and will be removed in 1.3. To keep the past behaviour, explicitly set `max_features='sqrt'` or remove this parameter as it is also the default value for RandomForestClassifiers and ExtraTreesClassifiers.\n",
      "  warn(\n",
      "/Library/Frameworks/Python.framework/Versions/3.9/lib/python3.9/site-packages/sklearn/ensemble/_forest.py:427: FutureWarning: `max_features='auto'` has been deprecated in 1.1 and will be removed in 1.3. To keep the past behaviour, explicitly set `max_features='sqrt'` or remove this parameter as it is also the default value for RandomForestClassifiers and ExtraTreesClassifiers.\n",
      "  warn(\n"
     ]
    },
    {
     "name": "stdout",
     "output_type": "stream",
     "text": [
      "[CV] END bootstrap=True, max_depth=2, max_features=sqrt, min_samples_leaf=2, min_samples_split=2, n_estimators=33; total time=  15.6s\n",
      "[CV] END bootstrap=True, max_depth=2, max_features=sqrt, min_samples_leaf=2, min_samples_split=2, n_estimators=33; total time=  15.5s\n"
     ]
    },
    {
     "name": "stderr",
     "output_type": "stream",
     "text": [
      "/Library/Frameworks/Python.framework/Versions/3.9/lib/python3.9/site-packages/sklearn/ensemble/_forest.py:427: FutureWarning: `max_features='auto'` has been deprecated in 1.1 and will be removed in 1.3. To keep the past behaviour, explicitly set `max_features='sqrt'` or remove this parameter as it is also the default value for RandomForestClassifiers and ExtraTreesClassifiers.\n",
      "  warn(\n"
     ]
    },
    {
     "name": "stdout",
     "output_type": "stream",
     "text": [
      "[CV] END bootstrap=True, max_depth=2, max_features=sqrt, min_samples_leaf=2, min_samples_split=2, n_estimators=80; total time=  37.7s\n",
      "[CV] END bootstrap=True, max_depth=2, max_features=sqrt, min_samples_leaf=2, min_samples_split=2, n_estimators=80; total time=  37.7s\n",
      "[CV] END bootstrap=True, max_depth=4, max_features=auto, min_samples_leaf=2, min_samples_split=2, n_estimators=33; total time=  30.4s\n",
      "[CV] END bootstrap=True, max_depth=4, max_features=auto, min_samples_leaf=2, min_samples_split=2, n_estimators=33; total time=  30.5s\n",
      "[CV] END bootstrap=False, max_depth=4, max_features=sqrt, min_samples_leaf=1, min_samples_split=5, n_estimators=17; total time=  24.4s\n",
      "[CV] END bootstrap=True, max_depth=4, max_features=sqrt, min_samples_leaf=2, min_samples_split=2, n_estimators=72; total time= 1.1min\n",
      "[CV] END bootstrap=True, max_depth=4, max_features=auto, min_samples_leaf=2, min_samples_split=2, n_estimators=33; total time=  29.5s\n",
      "[CV] END bootstrap=True, max_depth=2, max_features=sqrt, min_samples_leaf=2, min_samples_split=2, n_estimators=80; total time=  36.7s\n",
      "[CV] END bootstrap=True, max_depth=4, max_features=sqrt, min_samples_leaf=2, min_samples_split=2, n_estimators=72; total time= 1.1min\n",
      "[CV] END bootstrap=True, max_depth=4, max_features=sqrt, min_samples_leaf=2, min_samples_split=2, n_estimators=72; total time= 1.1min\n",
      "[CV] END bootstrap=False, max_depth=4, max_features=sqrt, min_samples_leaf=1, min_samples_split=5, n_estimators=17; total time=  19.3s\n",
      "[CV] END bootstrap=False, max_depth=4, max_features=sqrt, min_samples_leaf=1, min_samples_split=5, n_estimators=17; total time=  19.2s\n",
      "{'n_estimators': 33, 'min_samples_split': 2, 'min_samples_leaf': 2, 'max_features': 'auto', 'max_depth': 4, 'bootstrap': True}\n"
     ]
    },
    {
     "data": {
      "text/html": [
       "<div>\n",
       "<style scoped>\n",
       "    .dataframe tbody tr th:only-of-type {\n",
       "        vertical-align: middle;\n",
       "    }\n",
       "\n",
       "    .dataframe tbody tr th {\n",
       "        vertical-align: top;\n",
       "    }\n",
       "\n",
       "    .dataframe thead th {\n",
       "        text-align: right;\n",
       "    }\n",
       "</style>\n",
       "<table border=\"1\" class=\"dataframe\">\n",
       "  <thead>\n",
       "    <tr style=\"text-align: right;\">\n",
       "      <th></th>\n",
       "      <th>Model</th>\n",
       "      <th>Accuracy</th>\n",
       "      <th>f1</th>\n",
       "      <th>Recall</th>\n",
       "      <th>Precision</th>\n",
       "      <th>Specificity</th>\n",
       "      <th>TP</th>\n",
       "      <th>TN</th>\n",
       "      <th>FP</th>\n",
       "      <th>FN</th>\n",
       "      <th>y_test size</th>\n",
       "    </tr>\n",
       "  </thead>\n",
       "  <tbody>\n",
       "    <tr>\n",
       "      <th>0</th>\n",
       "      <td>randomforest_tuned_w2v</td>\n",
       "      <td>0.929887</td>\n",
       "      <td>0.509384</td>\n",
       "      <td>0.357724</td>\n",
       "      <td>0.884287</td>\n",
       "      <td>0.994698</td>\n",
       "      <td>1452</td>\n",
       "      <td>35644</td>\n",
       "      <td>190</td>\n",
       "      <td>2607</td>\n",
       "      <td>39893</td>\n",
       "    </tr>\n",
       "  </tbody>\n",
       "</table>\n",
       "</div>"
      ],
      "text/plain": [
       "                    Model  Accuracy        f1    Recall  Precision  \\\n",
       "0  randomforest_tuned_w2v  0.929887  0.509384  0.357724   0.884287   \n",
       "\n",
       "   Specificity    TP     TN   FP    FN  y_test size  \n",
       "0     0.994698  1452  35644  190  2607        39893  "
      ]
     },
     "execution_count": 56,
     "metadata": {},
     "output_type": "execute_result"
    }
   ],
   "source": [
    "# Number of trees in random forest\n",
    "n_estimators = [int(x) for x in np.linspace(start = 10, stop = 80, num = 10)]\n",
    "# Number of features to consider at every split\n",
    "max_features = ['auto', 'sqrt']\n",
    "# Maximum number of levels in tree\n",
    "max_depth = [2,4]\n",
    "# Minimum number of samples required to split a node\n",
    "min_samples_split = [2, 5]\n",
    "# Minimum number of samples required at each leaf node\n",
    "min_samples_leaf = [1, 2]\n",
    "# Method of selecting samples for training each tree\n",
    "bootstrap = [True, False]\n",
    "param_grid = {'n_estimators': n_estimators,\n",
    "               'max_features': max_features,\n",
    "               'max_depth': max_depth,\n",
    "               'min_samples_split': min_samples_split,\n",
    "               'min_samples_leaf': min_samples_leaf,\n",
    "               'bootstrap': bootstrap}\n",
    "rf_Model = RandomForestClassifier()\n",
    "from sklearn.model_selection import RandomizedSearchCV\n",
    "rf_RandomGrid = RandomizedSearchCV(estimator = rf_Model, param_distributions = param_grid, cv = 3, verbose=2, n_jobs = NUM_OF_THREADS)\n",
    "rf_RandomGrid.fit(norm_train_w2v4, y_train_w2v4)\n",
    "print(rf_RandomGrid.best_params_)\n",
    "preds2 = rf_RandomGrid.predict(norm_test_w2v4)\n",
    "make_classification_score(y_test_w2v4,preds2,\"randomforest_tuned_w2v\")"
   ]
  },
  {
   "cell_type": "code",
   "execution_count": 57,
   "metadata": {},
   "outputs": [],
   "source": [
    "# norm_train_w2v5.shape"
   ]
  },
  {
   "cell_type": "markdown",
   "metadata": {
    "id": "rPqpQdCbyRNk"
   },
   "source": [
    "## 11. ROC, AUC, Precision-Recall Curve"
   ]
  },
  {
   "cell_type": "markdown",
   "metadata": {
    "id": "x5kOMh6syRNk"
   },
   "source": [
    "Before tuning the threshold of our classifier, in this section we plot different curves. This plots will help to decide the **\"trade off\" between all the metrics**. The threshold choice starts from this trade off."
   ]
  },
  {
   "cell_type": "markdown",
   "metadata": {
    "id": "U5AFRJWCyRNk"
   },
   "source": [
    "### ROC AUC and Curve Plot"
   ]
  },
  {
   "cell_type": "markdown",
   "metadata": {
    "id": "7L26rFInyRNl"
   },
   "source": [
    "By definition an ROC curve (receiver operating characteristic curve) is a graph showing the **performance of a classification model at all the classification thresholds**. First we compute the Area Under The roc Curve (AUC) and then we plot the curve. **A value of the AUC=1 refers to a perfect classifier, AUC=0.5 refers to a random classifier.**"
   ]
  },
  {
   "cell_type": "code",
   "execution_count": 66,
   "metadata": {},
   "outputs": [],
   "source": [
    "from sklearn.naive_bayes import MultinomialNB\n",
    "import numpy as np\n",
    "nb_model = MultinomialNB()\n",
    "scaler = MinMaxScaler()\n",
    "X_train = scaler.fit_transform(norm_train_w2v4)\n",
    "X_test = scaler.transform(norm_test_w2v4)\n",
    "nb_model.fit(X_train, y_train_w2v4)\n",
    "preds3 = nb_model.predict(X_test)"
   ]
  },
  {
   "cell_type": "code",
   "execution_count": 73,
   "metadata": {},
   "outputs": [],
   "source": [
    "lsvc_model = LinearSVC()\n",
    "lsvc_model.fit(norm_train_w2v1, y_train_w2v1)\n",
    "preds0 = lsvc_model.predict(norm_test_w2v1)"
   ]
  },
  {
   "cell_type": "code",
   "execution_count": 74,
   "metadata": {},
   "outputs": [],
   "source": [
    "from sklearn.metrics import roc_curve, auc\n",
    "\n",
    "LinearSVC_fpr , LinearSVC_tpr , threshold = roc_curve(y_test_w2v1,preds0)\n",
    "auc_linearsvc = auc(LinearSVC_fpr , LinearSVC_tpr)\n",
    "\n",
    "logistic_fpr , logistic_tpr , threshold = roc_curve(y_test_w2v2,preds)\n",
    "auc_logistic = auc(logistic_fpr , logistic_tpr)\n",
    "\n",
    "rf_fpr , rf_tpr , threshold = roc_curve(y_test_w2v4,preds2)\n",
    "auc_rf = auc(rf_fpr , rf_tpr)\n",
    "\n",
    "nb_fpr , nb_tpr , threshold = roc_curve(y_test_w2v4,preds3)\n",
    "auc_nb = auc(nb_fpr , nb_tpr)"
   ]
  },
  {
   "cell_type": "code",
   "execution_count": 75,
   "metadata": {},
   "outputs": [
    {
     "data": {
      "image/png": "[encoded data removed]",
      "text/plain": [
       "<Figure size 500x500 with 1 Axes>"
      ]
     },
     "metadata": {},
     "output_type": "display_data"
    }
   ],
   "source": [
    "plt.figure(figsize=(5, 5), dpi=100)\n",
    "plt.plot(LinearSVC_fpr , LinearSVC_tpr, linestyle='-', label='LinearSVC (auc = %0.3f)' % auc_linearsvc)\n",
    "plt.plot(logistic_fpr, logistic_tpr, marker='.', label='Logistic (auc = %0.3f)' % auc_logistic)\n",
    "plt.plot(rf_fpr , rf_tpr, linestyle='-', label='RandomForest (auc = %0.3f)' % auc_rf)\n",
    "plt.plot(nb_fpr , nb_tpr, marker='.', label='NaiveBayes (auc = %0.3f)' % auc_nb)\n",
    "plt.xlabel('False Positive Rate -->')\n",
    "plt.ylabel('True Positive Rate -->')\n",
    "plt.legend()\n",
    "plt.show()\n"
   ]
  },
  {
   "cell_type": "markdown",
   "metadata": {
    "id": "U5AFRJWCyRNk"
   },
   "source": [
    "### Precision Recall Curve"
   ]
  },
  {
   "cell_type": "code",
   "execution_count": 76,
   "metadata": {},
   "outputs": [
    {
     "data": {
      "text/plain": [
       "<sklearn.metrics._plot.precision_recall_curve.PrecisionRecallDisplay at 0x7fc9abd91670>"
      ]
     },
     "execution_count": 76,
     "metadata": {},
     "output_type": "execute_result"
    },
    {
     "data": {
      "image/png": "[encoded data removed]",
      "text/plain": [
       "<Figure size 640x480 with 1 Axes>"
      ]
     },
     "metadata": {},
     "output_type": "display_data"
    },
    {
     "data": {
      "image/png": "[encoded data removed]",
      "text/plain": [
       "<Figure size 640x480 with 1 Axes>"
      ]
     },
     "metadata": {},
     "output_type": "display_data"
    },
    {
     "data": {
      "image/png": "[encoded data removed]",
      "text/plain": [
       "<Figure size 640x480 with 1 Axes>"
      ]
     },
     "metadata": {},
     "output_type": "display_data"
    },
    {
     "data": {
      "image/png": "[encoded data removed]",
      "text/plain": [
       "<Figure size 640x480 with 1 Axes>"
      ]
     },
     "metadata": {},
     "output_type": "display_data"
    }
   ],
   "source": [
    "from sklearn.metrics import plot_precision_recall_curve\n",
    "plot_precision_recall_curve(lsvc_model,norm_test_w2v5,y_test_w2v5)\n",
    "plot_precision_recall_curve(nb_model,norm_test_w2v5,y_test_w2v5)\n",
    "plot_precision_recall_curve(rf_RandomGrid,norm_test_w2v4,y_test_w2v4)\n",
    "plot_precision_recall_curve(final_model,norm_test_w2v2,y_test_w2v2)"
   ]
  },
  {
   "cell_type": "markdown",
   "metadata": {},
   "source": [
    "## **12. Finding Optimal Threshold For Binary Classification**"
   ]
  },
  {
   "cell_type": "code",
   "execution_count": 79,
   "metadata": {},
   "outputs": [
    {
     "name": "stdout",
     "output_type": "stream",
     "text": [
      "Ensemble test roc-auc: 0.9619029277964721\n"
     ]
    }
   ],
   "source": [
    "n_list = []\n",
    "from sklearn.metrics import accuracy_score\n",
    "for model in [nb_model,final_model,rf_RandomGrid]:\n",
    "    n_list.append(pd.Series(model.predict_proba(norm_test_w2v4)[:,1]))\n",
    "final_prediction  = pd.concat(n_list,axis=1).mean(axis=1)\n",
    "print('Ensemble test roc-auc: {}'.format(roc_auc_score(y_test_w2v4,final_prediction)))\n",
    "# print('Ensemble test Accuracy: {}'.format(accuracy_score(y_test_w2v5,final_prediction)))"
   ]
  },
  {
   "cell_type": "markdown",
   "metadata": {},
   "source": [
    "13. Finding Results For Expected Best Model We finded during analysis"
   ]
  },
  {
   "cell_type": "markdown",
   "metadata": {},
   "source": [
    "## OTHER DATASETS"
   ]
  },
  {
   "cell_type": "code",
   "execution_count": 92,
   "metadata": {},
   "outputs": [],
   "source": [
    "dataset2 = pd.read_csv(\"train_E6oV3lV.csv\")\n",
    "Counter(dataset2[\"label\"])\n",
    "dataset2[\"tweet\"] = apply_regex(dataset2[\"tweet\"])\n",
    "dataset2[\"tokenized\"] = dataset2[\"tweet\"].apply(tokenize)\n",
    "dataset2['stemmed'] = dataset2['tokenized'].apply(applyStemming)\n",
    "other_test = dataset2[\"stemmed\"]\n",
    "ans_test = dataset2[\"label\"]\n",
    "other_test_w2v = embedding_feats(other_test, wordVec)\n"
   ]
  },
  {
   "cell_type": "code",
   "execution_count": 93,
   "metadata": {},
   "outputs": [
    {
     "data": {
      "text/html": [
       "<div>\n",
       "<style scoped>\n",
       "    .dataframe tbody tr th:only-of-type {\n",
       "        vertical-align: middle;\n",
       "    }\n",
       "\n",
       "    .dataframe tbody tr th {\n",
       "        vertical-align: top;\n",
       "    }\n",
       "\n",
       "    .dataframe thead th {\n",
       "        text-align: right;\n",
       "    }\n",
       "</style>\n",
       "<table border=\"1\" class=\"dataframe\">\n",
       "  <thead>\n",
       "    <tr style=\"text-align: right;\">\n",
       "      <th></th>\n",
       "      <th>Model</th>\n",
       "      <th>Accuracy</th>\n",
       "      <th>f1</th>\n",
       "      <th>Recall</th>\n",
       "      <th>Precision</th>\n",
       "      <th>Specificity</th>\n",
       "      <th>TP</th>\n",
       "      <th>TN</th>\n",
       "      <th>FP</th>\n",
       "      <th>FN</th>\n",
       "      <th>y_test size</th>\n",
       "    </tr>\n",
       "  </thead>\n",
       "  <tbody>\n",
       "    <tr>\n",
       "      <th>0</th>\n",
       "      <td>randomforest_tuned_w2v</td>\n",
       "      <td>0.756805</td>\n",
       "      <td>0.136621</td>\n",
       "      <td>0.274309</td>\n",
       "      <td>0.090963</td>\n",
       "      <td>0.793203</td>\n",
       "      <td>615</td>\n",
       "      <td>23574</td>\n",
       "      <td>6146</td>\n",
       "      <td>1627</td>\n",
       "      <td>31962</td>\n",
       "    </tr>\n",
       "  </tbody>\n",
       "</table>\n",
       "</div>"
      ],
      "text/plain": [
       "                    Model  Accuracy        f1    Recall  Precision  \\\n",
       "0  randomforest_tuned_w2v  0.756805  0.136621  0.274309   0.090963   \n",
       "\n",
       "   Specificity   TP     TN    FP    FN  y_test size  \n",
       "0     0.793203  615  23574  6146  1627        31962  "
      ]
     },
     "execution_count": 93,
     "metadata": {},
     "output_type": "execute_result"
    }
   ],
   "source": [
    "p_1 = rf_RandomGrid.predict(other_test_w2v)\n",
    "make_classification_score(ans_test,p_1,\"randomforest_tuned_w2v\")\n"
   ]
  },
  {
   "cell_type": "markdown",
   "metadata": {},
   "source": [
    "*Better Than Machine*"
   ]
  }
 ],
 "metadata": {
  "kernelspec": {
   "display_name": "Python 3.9.13 64-bit",
   "language": "python",
   "name": "python3"
  },
  "language_info": {
   "codemirror_mode": {
    "name": "ipython",
    "version": 3
   },
   "file_extension": ".py",
   "mimetype": "text/x-python",
   "name": "python",
   "nbconvert_exporter": "python",
   "pygments_lexer": "ipython3",
   "version": "3.9.13"
  },
  "orig_nbformat": 4,
  "vscode": {
   "interpreter": {
    "hash": "7812ea015bdcee6f23a998adcdd2ef97c151c0c241b7b7070987d9313e41299d"
   }
  }
 },
 "nbformat": 4,
 "nbformat_minor": 2
}
